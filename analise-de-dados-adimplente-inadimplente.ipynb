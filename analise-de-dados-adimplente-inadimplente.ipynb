{
 "cells": [
  {
   "cell_type": "markdown",
   "id": "c6017210",
   "metadata": {
    "papermill": {
     "duration": 0.053964,
     "end_time": "2022-04-07T19:32:13.758168",
     "exception": false,
     "start_time": "2022-04-07T19:32:13.704204",
     "status": "completed"
    },
    "tags": []
   },
   "source": [
    "# Motivos para clientes Inadimplente #\n",
    "\n",
    "## Descrição do problema ##\n",
    "  A partir da analise de uma tabela CSV de uma instituição financeira, o objetivo é entender os motivos para um cliente se tornar inadimplente. Para isso será levado em conta algumas informações como salário, escolaridade e movimentação financeira. "
   ]
  },
  {
   "cell_type": "markdown",
   "id": "c4bd3a10",
   "metadata": {
    "_kg_hide-input": true,
    "papermill": {
     "duration": 0.054504,
     "end_time": "2022-04-07T19:32:13.864440",
     "exception": false,
     "start_time": "2022-04-07T19:32:13.809936",
     "status": "completed"
    },
    "tags": []
   },
   "source": [
    "\n",
    "### Dados ###\n",
    "A tabela CSV utilizada possuí as seguintes informações: \n",
    "\n",
    "<table> \n",
    "    <tr> <th> Coluna </th> <th> Descrição </th> </tr>\n",
    "    <tr> <td>id </td> <td> Número da conta</td> </tr>\n",
    "    <tr> <td>default </td> <td> Indica se o cliente é adimplente(0) ou inadimplente(1) </td> </tr>\n",
    "    <tr> <td>idade </td> <td> --- </td> </tr>\n",
    "    <tr> <td>sexo </td> <td> --- </td> </tr>\n",
    "    <tr> <td>dependentes </td> <td> --- </td> </tr>\n",
    "    <tr> <td>escolaridade </td> <td> --- </td> </tr>\n",
    "    <tr> <td>estado_civil </td> <td> --- </td> </tr>\n",
    "    <tr> <td>salario_anual </td> <td> Faixa do salario mensal multiplicado por 12 </td> </tr>\n",
    "    <tr> <td>tipo_cartao </td> <td> Categoria do cartão: blue, silver, gold e platinium </td> </tr>\n",
    "    <tr> <td>meses_de_relacionamento </td> <td> Quantidade de meses desde a abertura da conta </td> </tr>\n",
    "    <tr> <td>qtd_produtos </td> <td> Quantidade de produtos contratados </td> </tr>\n",
    "    <tr> <td>iteracoes_12m </td> <td> Quantidade de iterações com o cliente no último ano</td> </tr>\n",
    "    <tr> <td>meses_inativo_12m </td> <td> Quantidade de meses que o cliente ficou inativo no último ano</td> </tr>\n",
    "    <tr> <td>limite_credito </td> <td> Valor limite do cartão de crédito </td> </tr>\n",
    "    <tr> <td>valor_transacoes_12m </td> <td> Soma total do valor das transações no cartão de crédito no último ano</td> </tr>\n",
    "    <tr> <td>qtd_transacoes_12m </td> <td> Quantidade total de transações no cartão de crédito no último ano</td> </tr>\n",
    "\n",
    "\n",
    "\n",
    "</table>"
   ]
  },
  {
   "cell_type": "markdown",
   "id": "c761f250",
   "metadata": {
    "papermill": {
     "duration": 0.051384,
     "end_time": "2022-04-07T19:32:13.968515",
     "exception": false,
     "start_time": "2022-04-07T19:32:13.917131",
     "status": "completed"
    },
    "tags": []
   },
   "source": [
    "## Bibliotecas Importadas ##\n",
    "* <a href = \"https://pandas.pydata.org\" >Pandas</a> : Leitura e manipulação de dados.\n",
    "* <a href = \"https://matplotlib.org\"> Matplotlib </a>: Visualização gráfica dos dados. \n",
    "* <a href = \"https://seaborn.pydata.org\" > Seaborn </a> :  Complemento para Matplotllib. "
   ]
  },
  {
   "cell_type": "code",
   "execution_count": 1,
   "id": "2cefbe67",
   "metadata": {
    "execution": {
     "iopub.execute_input": "2022-04-07T19:32:14.080021Z",
     "iopub.status.busy": "2022-04-07T19:32:14.078840Z",
     "iopub.status.idle": "2022-04-07T19:32:15.165293Z",
     "shell.execute_reply": "2022-04-07T19:32:15.164511Z",
     "shell.execute_reply.started": "2022-02-13T13:52:30.896001Z"
    },
    "papermill": {
     "duration": 1.142226,
     "end_time": "2022-04-07T19:32:15.165460",
     "exception": false,
     "start_time": "2022-04-07T19:32:14.023234",
     "status": "completed"
    },
    "tags": []
   },
   "outputs": [],
   "source": [
    "import pandas as pd\n",
    "import seaborn as sns\n",
    "import matplotlib.pyplot as plt"
   ]
  },
  {
   "cell_type": "markdown",
   "id": "275fa97c",
   "metadata": {
    "papermill": {
     "duration": 0.051067,
     "end_time": "2022-04-07T19:32:15.268695",
     "exception": false,
     "start_time": "2022-04-07T19:32:15.217628",
     "status": "completed"
    },
    "tags": []
   },
   "source": [
    "## Gerando base ##"
   ]
  },
  {
   "cell_type": "code",
   "execution_count": 2,
   "id": "9b11c026",
   "metadata": {
    "execution": {
     "iopub.execute_input": "2022-04-07T19:32:15.376320Z",
     "iopub.status.busy": "2022-04-07T19:32:15.375659Z",
     "iopub.status.idle": "2022-04-07T19:32:15.427847Z",
     "shell.execute_reply": "2022-04-07T19:32:15.427281Z",
     "shell.execute_reply.started": "2022-02-13T13:52:30.904103Z"
    },
    "papermill": {
     "duration": 0.108189,
     "end_time": "2022-04-07T19:32:15.428029",
     "exception": false,
     "start_time": "2022-04-07T19:32:15.319840",
     "status": "completed"
    },
    "tags": []
   },
   "outputs": [],
   "source": [
    "df = pd.read_csv('../input/material-ebac-inadimplente/Python_M10_support material.csv', na_values =  'na')"
   ]
  },
  {
   "cell_type": "code",
   "execution_count": 3,
   "id": "51c37fd9",
   "metadata": {
    "execution": {
     "iopub.execute_input": "2022-04-07T19:32:15.543709Z",
     "iopub.status.busy": "2022-04-07T19:32:15.542760Z",
     "iopub.status.idle": "2022-04-07T19:32:15.563437Z",
     "shell.execute_reply": "2022-04-07T19:32:15.562821Z",
     "shell.execute_reply.started": "2022-02-13T13:52:30.950152Z"
    },
    "papermill": {
     "duration": 0.080969,
     "end_time": "2022-04-07T19:32:15.563582",
     "exception": false,
     "start_time": "2022-04-07T19:32:15.482613",
     "status": "completed"
    },
    "tags": []
   },
   "outputs": [
    {
     "data": {
      "text/html": [
       "<div>\n",
       "<style scoped>\n",
       "    .dataframe tbody tr th:only-of-type {\n",
       "        vertical-align: middle;\n",
       "    }\n",
       "\n",
       "    .dataframe tbody tr th {\n",
       "        vertical-align: top;\n",
       "    }\n",
       "\n",
       "    .dataframe thead th {\n",
       "        text-align: right;\n",
       "    }\n",
       "</style>\n",
       "<table border=\"1\" class=\"dataframe\">\n",
       "  <thead>\n",
       "    <tr style=\"text-align: right;\">\n",
       "      <th></th>\n",
       "      <th>id</th>\n",
       "      <th>default</th>\n",
       "      <th>idade</th>\n",
       "      <th>sexo</th>\n",
       "      <th>dependentes</th>\n",
       "      <th>escolaridade</th>\n",
       "      <th>estado_civil</th>\n",
       "      <th>salario_anual</th>\n",
       "      <th>tipo_cartao</th>\n",
       "      <th>meses_de_relacionamento</th>\n",
       "      <th>qtd_produtos</th>\n",
       "      <th>iteracoes_12m</th>\n",
       "      <th>meses_inativo_12m</th>\n",
       "      <th>limite_credito</th>\n",
       "      <th>valor_transacoes_12m</th>\n",
       "      <th>qtd_transacoes_12m</th>\n",
       "    </tr>\n",
       "  </thead>\n",
       "  <tbody>\n",
       "    <tr>\n",
       "      <th>0</th>\n",
       "      <td>768805383</td>\n",
       "      <td>0</td>\n",
       "      <td>45</td>\n",
       "      <td>M</td>\n",
       "      <td>3</td>\n",
       "      <td>ensino medio</td>\n",
       "      <td>casado</td>\n",
       "      <td>$60K - $80K</td>\n",
       "      <td>blue</td>\n",
       "      <td>39</td>\n",
       "      <td>5</td>\n",
       "      <td>3</td>\n",
       "      <td>1</td>\n",
       "      <td>12.691,51</td>\n",
       "      <td>1.144,90</td>\n",
       "      <td>42</td>\n",
       "    </tr>\n",
       "    <tr>\n",
       "      <th>1</th>\n",
       "      <td>818770008</td>\n",
       "      <td>0</td>\n",
       "      <td>49</td>\n",
       "      <td>F</td>\n",
       "      <td>5</td>\n",
       "      <td>mestrado</td>\n",
       "      <td>solteiro</td>\n",
       "      <td>menos que $40K</td>\n",
       "      <td>blue</td>\n",
       "      <td>44</td>\n",
       "      <td>6</td>\n",
       "      <td>2</td>\n",
       "      <td>1</td>\n",
       "      <td>8.256,96</td>\n",
       "      <td>1.291,45</td>\n",
       "      <td>33</td>\n",
       "    </tr>\n",
       "    <tr>\n",
       "      <th>2</th>\n",
       "      <td>713982108</td>\n",
       "      <td>0</td>\n",
       "      <td>51</td>\n",
       "      <td>M</td>\n",
       "      <td>3</td>\n",
       "      <td>mestrado</td>\n",
       "      <td>casado</td>\n",
       "      <td>$80K - $120K</td>\n",
       "      <td>blue</td>\n",
       "      <td>36</td>\n",
       "      <td>4</td>\n",
       "      <td>0</td>\n",
       "      <td>1</td>\n",
       "      <td>3.418,56</td>\n",
       "      <td>1.887,72</td>\n",
       "      <td>20</td>\n",
       "    </tr>\n",
       "    <tr>\n",
       "      <th>3</th>\n",
       "      <td>769911858</td>\n",
       "      <td>0</td>\n",
       "      <td>40</td>\n",
       "      <td>F</td>\n",
       "      <td>4</td>\n",
       "      <td>ensino medio</td>\n",
       "      <td>NaN</td>\n",
       "      <td>menos que $40K</td>\n",
       "      <td>blue</td>\n",
       "      <td>34</td>\n",
       "      <td>3</td>\n",
       "      <td>1</td>\n",
       "      <td>4</td>\n",
       "      <td>3.313,03</td>\n",
       "      <td>1.171,56</td>\n",
       "      <td>20</td>\n",
       "    </tr>\n",
       "    <tr>\n",
       "      <th>4</th>\n",
       "      <td>709106358</td>\n",
       "      <td>0</td>\n",
       "      <td>40</td>\n",
       "      <td>M</td>\n",
       "      <td>3</td>\n",
       "      <td>sem educacao formal</td>\n",
       "      <td>casado</td>\n",
       "      <td>$60K - $80K</td>\n",
       "      <td>blue</td>\n",
       "      <td>21</td>\n",
       "      <td>5</td>\n",
       "      <td>0</td>\n",
       "      <td>1</td>\n",
       "      <td>4.716,22</td>\n",
       "      <td>816,08</td>\n",
       "      <td>28</td>\n",
       "    </tr>\n",
       "  </tbody>\n",
       "</table>\n",
       "</div>"
      ],
      "text/plain": [
       "          id  default  idade sexo  dependentes         escolaridade  \\\n",
       "0  768805383        0     45    M            3         ensino medio   \n",
       "1  818770008        0     49    F            5             mestrado   \n",
       "2  713982108        0     51    M            3             mestrado   \n",
       "3  769911858        0     40    F            4         ensino medio   \n",
       "4  709106358        0     40    M            3  sem educacao formal   \n",
       "\n",
       "  estado_civil   salario_anual tipo_cartao  meses_de_relacionamento  \\\n",
       "0       casado     $60K - $80K        blue                       39   \n",
       "1     solteiro  menos que $40K        blue                       44   \n",
       "2       casado    $80K - $120K        blue                       36   \n",
       "3          NaN  menos que $40K        blue                       34   \n",
       "4       casado     $60K - $80K        blue                       21   \n",
       "\n",
       "   qtd_produtos  iteracoes_12m  meses_inativo_12m limite_credito  \\\n",
       "0             5              3                  1      12.691,51   \n",
       "1             6              2                  1       8.256,96   \n",
       "2             4              0                  1       3.418,56   \n",
       "3             3              1                  4       3.313,03   \n",
       "4             5              0                  1       4.716,22   \n",
       "\n",
       "  valor_transacoes_12m  qtd_transacoes_12m  \n",
       "0             1.144,90                  42  \n",
       "1             1.291,45                  33  \n",
       "2             1.887,72                  20  \n",
       "3             1.171,56                  20  \n",
       "4               816,08                  28  "
      ]
     },
     "execution_count": 3,
     "metadata": {},
     "output_type": "execute_result"
    }
   ],
   "source": [
    "df.head(n =  5)"
   ]
  },
  {
   "cell_type": "markdown",
   "id": "7749a1c7",
   "metadata": {
    "papermill": {
     "duration": 0.051832,
     "end_time": "2022-04-07T19:32:15.669058",
     "exception": false,
     "start_time": "2022-04-07T19:32:15.617226",
     "status": "completed"
    },
    "tags": []
   },
   "source": [
    "## Exploração de dados ##\n",
    "\n",
    "### Estrutura ###"
   ]
  },
  {
   "cell_type": "code",
   "execution_count": 4,
   "id": "17080df8",
   "metadata": {
    "execution": {
     "iopub.execute_input": "2022-04-07T19:32:15.779508Z",
     "iopub.status.busy": "2022-04-07T19:32:15.778706Z",
     "iopub.status.idle": "2022-04-07T19:32:15.784088Z",
     "shell.execute_reply": "2022-04-07T19:32:15.784602Z",
     "shell.execute_reply.started": "2022-02-13T13:52:30.970139Z"
    },
    "papermill": {
     "duration": 0.063361,
     "end_time": "2022-04-07T19:32:15.784769",
     "exception": false,
     "start_time": "2022-04-07T19:32:15.721408",
     "status": "completed"
    },
    "tags": []
   },
   "outputs": [
    {
     "data": {
      "text/plain": [
       "(10127, 16)"
      ]
     },
     "execution_count": 4,
     "metadata": {},
     "output_type": "execute_result"
    }
   ],
   "source": [
    "df.shape #Quantidade de linhas, quantidade de colunas"
   ]
  },
  {
   "cell_type": "code",
   "execution_count": 5,
   "id": "a71adc43",
   "metadata": {
    "execution": {
     "iopub.execute_input": "2022-04-07T19:32:15.900939Z",
     "iopub.status.busy": "2022-04-07T19:32:15.900069Z",
     "iopub.status.idle": "2022-04-07T19:32:15.907108Z",
     "shell.execute_reply": "2022-04-07T19:32:15.907558Z",
     "shell.execute_reply.started": "2022-02-13T13:52:30.980615Z"
    },
    "papermill": {
     "duration": 0.070087,
     "end_time": "2022-04-07T19:32:15.907744",
     "exception": false,
     "start_time": "2022-04-07T19:32:15.837657",
     "status": "completed"
    },
    "tags": []
   },
   "outputs": [
    {
     "data": {
      "text/plain": [
       "(1627, 16)"
      ]
     },
     "execution_count": 5,
     "metadata": {},
     "output_type": "execute_result"
    }
   ],
   "source": [
    "df[df['default'] == 1]. shape # Linhas contendo os clientes ADIMPLENTES"
   ]
  },
  {
   "cell_type": "code",
   "execution_count": 6,
   "id": "23715817",
   "metadata": {
    "execution": {
     "iopub.execute_input": "2022-04-07T19:32:16.020565Z",
     "iopub.status.busy": "2022-04-07T19:32:16.019831Z",
     "iopub.status.idle": "2022-04-07T19:32:16.025777Z",
     "shell.execute_reply": "2022-04-07T19:32:16.026397Z",
     "shell.execute_reply.started": "2022-02-13T13:52:30.994533Z"
    },
    "papermill": {
     "duration": 0.065474,
     "end_time": "2022-04-07T19:32:16.026585",
     "exception": false,
     "start_time": "2022-04-07T19:32:15.961111",
     "status": "completed"
    },
    "tags": []
   },
   "outputs": [
    {
     "data": {
      "text/plain": [
       "(8500, 16)"
      ]
     },
     "execution_count": 6,
     "metadata": {},
     "output_type": "execute_result"
    }
   ],
   "source": [
    "df[df['default'] == 0 ].shape # Linhas contendo os clientes INADIMPLENTES\n"
   ]
  },
  {
   "cell_type": "code",
   "execution_count": 7,
   "id": "7c726922",
   "metadata": {
    "execution": {
     "iopub.execute_input": "2022-04-07T19:32:16.141626Z",
     "iopub.status.busy": "2022-04-07T19:32:16.140591Z",
     "iopub.status.idle": "2022-04-07T19:32:16.150826Z",
     "shell.execute_reply": "2022-04-07T19:32:16.151700Z",
     "shell.execute_reply.started": "2022-02-13T13:52:31.00733Z"
    },
    "papermill": {
     "duration": 0.068594,
     "end_time": "2022-04-07T19:32:16.151926",
     "exception": false,
     "start_time": "2022-04-07T19:32:16.083332",
     "status": "completed"
    },
    "tags": []
   },
   "outputs": [
    {
     "name": "stdout",
     "output_type": "stream",
     "text": [
      "Clientes ADIMPLENTES: 83.93%\n",
      "Clientes INADIMPLENTES: 16.07%\n"
     ]
    }
   ],
   "source": [
    "total_linhas, _ = df.shape\n",
    "\n",
    "total_adimplentes, _ = df[df['default'] == 0].shape\n",
    "total_inadimplentes, _ = df[df['default'] == 1].shape\n",
    "\n",
    "print(f'Clientes ADIMPLENTES: {round(100 * total_adimplentes / total_linhas, 2)}%')\n",
    "print(f'Clientes INADIMPLENTES: {round(100 * total_inadimplentes / total_linhas, 2)}%')"
   ]
  },
  {
   "cell_type": "markdown",
   "id": "096aaf57",
   "metadata": {
    "papermill": {
     "duration": 0.054624,
     "end_time": "2022-04-07T19:32:16.261546",
     "exception": false,
     "start_time": "2022-04-07T19:32:16.206922",
     "status": "completed"
    },
    "tags": []
   },
   "source": [
    "### Schema  ###"
   ]
  },
  {
   "cell_type": "code",
   "execution_count": 8,
   "id": "5d7f3b74",
   "metadata": {
    "execution": {
     "iopub.execute_input": "2022-04-07T19:32:16.375103Z",
     "iopub.status.busy": "2022-04-07T19:32:16.374091Z",
     "iopub.status.idle": "2022-04-07T19:32:16.390646Z",
     "shell.execute_reply": "2022-04-07T19:32:16.391219Z",
     "shell.execute_reply.started": "2022-02-13T13:52:31.024385Z"
    },
    "papermill": {
     "duration": 0.075464,
     "end_time": "2022-04-07T19:32:16.391402",
     "exception": false,
     "start_time": "2022-04-07T19:32:16.315938",
     "status": "completed"
    },
    "tags": []
   },
   "outputs": [
    {
     "data": {
      "text/html": [
       "<div>\n",
       "<style scoped>\n",
       "    .dataframe tbody tr th:only-of-type {\n",
       "        vertical-align: middle;\n",
       "    }\n",
       "\n",
       "    .dataframe tbody tr th {\n",
       "        vertical-align: top;\n",
       "    }\n",
       "\n",
       "    .dataframe thead th {\n",
       "        text-align: right;\n",
       "    }\n",
       "</style>\n",
       "<table border=\"1\" class=\"dataframe\">\n",
       "  <thead>\n",
       "    <tr style=\"text-align: right;\">\n",
       "      <th></th>\n",
       "      <th>id</th>\n",
       "      <th>default</th>\n",
       "      <th>idade</th>\n",
       "      <th>sexo</th>\n",
       "      <th>dependentes</th>\n",
       "      <th>escolaridade</th>\n",
       "      <th>estado_civil</th>\n",
       "      <th>salario_anual</th>\n",
       "      <th>tipo_cartao</th>\n",
       "      <th>meses_de_relacionamento</th>\n",
       "      <th>qtd_produtos</th>\n",
       "      <th>iteracoes_12m</th>\n",
       "      <th>meses_inativo_12m</th>\n",
       "      <th>limite_credito</th>\n",
       "      <th>valor_transacoes_12m</th>\n",
       "      <th>qtd_transacoes_12m</th>\n",
       "    </tr>\n",
       "  </thead>\n",
       "  <tbody>\n",
       "    <tr>\n",
       "      <th>0</th>\n",
       "      <td>768805383</td>\n",
       "      <td>0</td>\n",
       "      <td>45</td>\n",
       "      <td>M</td>\n",
       "      <td>3</td>\n",
       "      <td>ensino medio</td>\n",
       "      <td>casado</td>\n",
       "      <td>$60K - $80K</td>\n",
       "      <td>blue</td>\n",
       "      <td>39</td>\n",
       "      <td>5</td>\n",
       "      <td>3</td>\n",
       "      <td>1</td>\n",
       "      <td>12.691,51</td>\n",
       "      <td>1.144,90</td>\n",
       "      <td>42</td>\n",
       "    </tr>\n",
       "    <tr>\n",
       "      <th>1</th>\n",
       "      <td>818770008</td>\n",
       "      <td>0</td>\n",
       "      <td>49</td>\n",
       "      <td>F</td>\n",
       "      <td>5</td>\n",
       "      <td>mestrado</td>\n",
       "      <td>solteiro</td>\n",
       "      <td>menos que $40K</td>\n",
       "      <td>blue</td>\n",
       "      <td>44</td>\n",
       "      <td>6</td>\n",
       "      <td>2</td>\n",
       "      <td>1</td>\n",
       "      <td>8.256,96</td>\n",
       "      <td>1.291,45</td>\n",
       "      <td>33</td>\n",
       "    </tr>\n",
       "    <tr>\n",
       "      <th>2</th>\n",
       "      <td>713982108</td>\n",
       "      <td>0</td>\n",
       "      <td>51</td>\n",
       "      <td>M</td>\n",
       "      <td>3</td>\n",
       "      <td>mestrado</td>\n",
       "      <td>casado</td>\n",
       "      <td>$80K - $120K</td>\n",
       "      <td>blue</td>\n",
       "      <td>36</td>\n",
       "      <td>4</td>\n",
       "      <td>0</td>\n",
       "      <td>1</td>\n",
       "      <td>3.418,56</td>\n",
       "      <td>1.887,72</td>\n",
       "      <td>20</td>\n",
       "    </tr>\n",
       "    <tr>\n",
       "      <th>3</th>\n",
       "      <td>769911858</td>\n",
       "      <td>0</td>\n",
       "      <td>40</td>\n",
       "      <td>F</td>\n",
       "      <td>4</td>\n",
       "      <td>ensino medio</td>\n",
       "      <td>NaN</td>\n",
       "      <td>menos que $40K</td>\n",
       "      <td>blue</td>\n",
       "      <td>34</td>\n",
       "      <td>3</td>\n",
       "      <td>1</td>\n",
       "      <td>4</td>\n",
       "      <td>3.313,03</td>\n",
       "      <td>1.171,56</td>\n",
       "      <td>20</td>\n",
       "    </tr>\n",
       "    <tr>\n",
       "      <th>4</th>\n",
       "      <td>709106358</td>\n",
       "      <td>0</td>\n",
       "      <td>40</td>\n",
       "      <td>M</td>\n",
       "      <td>3</td>\n",
       "      <td>sem educacao formal</td>\n",
       "      <td>casado</td>\n",
       "      <td>$60K - $80K</td>\n",
       "      <td>blue</td>\n",
       "      <td>21</td>\n",
       "      <td>5</td>\n",
       "      <td>0</td>\n",
       "      <td>1</td>\n",
       "      <td>4.716,22</td>\n",
       "      <td>816,08</td>\n",
       "      <td>28</td>\n",
       "    </tr>\n",
       "  </tbody>\n",
       "</table>\n",
       "</div>"
      ],
      "text/plain": [
       "          id  default  idade sexo  dependentes         escolaridade  \\\n",
       "0  768805383        0     45    M            3         ensino medio   \n",
       "1  818770008        0     49    F            5             mestrado   \n",
       "2  713982108        0     51    M            3             mestrado   \n",
       "3  769911858        0     40    F            4         ensino medio   \n",
       "4  709106358        0     40    M            3  sem educacao formal   \n",
       "\n",
       "  estado_civil   salario_anual tipo_cartao  meses_de_relacionamento  \\\n",
       "0       casado     $60K - $80K        blue                       39   \n",
       "1     solteiro  menos que $40K        blue                       44   \n",
       "2       casado    $80K - $120K        blue                       36   \n",
       "3          NaN  menos que $40K        blue                       34   \n",
       "4       casado     $60K - $80K        blue                       21   \n",
       "\n",
       "   qtd_produtos  iteracoes_12m  meses_inativo_12m limite_credito  \\\n",
       "0             5              3                  1      12.691,51   \n",
       "1             6              2                  1       8.256,96   \n",
       "2             4              0                  1       3.418,56   \n",
       "3             3              1                  4       3.313,03   \n",
       "4             5              0                  1       4.716,22   \n",
       "\n",
       "  valor_transacoes_12m  qtd_transacoes_12m  \n",
       "0             1.144,90                  42  \n",
       "1             1.291,45                  33  \n",
       "2             1.887,72                  20  \n",
       "3             1.171,56                  20  \n",
       "4               816,08                  28  "
      ]
     },
     "execution_count": 8,
     "metadata": {},
     "output_type": "execute_result"
    }
   ],
   "source": [
    "df.head(n = 5)"
   ]
  },
  {
   "cell_type": "code",
   "execution_count": 9,
   "id": "734b642e",
   "metadata": {
    "execution": {
     "iopub.execute_input": "2022-04-07T19:32:16.504700Z",
     "iopub.status.busy": "2022-04-07T19:32:16.504050Z",
     "iopub.status.idle": "2022-04-07T19:32:16.510157Z",
     "shell.execute_reply": "2022-04-07T19:32:16.510656Z",
     "shell.execute_reply.started": "2022-02-13T13:52:31.045896Z"
    },
    "papermill": {
     "duration": 0.06467,
     "end_time": "2022-04-07T19:32:16.510822",
     "exception": false,
     "start_time": "2022-04-07T19:32:16.446152",
     "status": "completed"
    },
    "tags": []
   },
   "outputs": [
    {
     "data": {
      "text/plain": [
       "id                          int64\n",
       "default                     int64\n",
       "idade                       int64\n",
       "sexo                       object\n",
       "dependentes                 int64\n",
       "escolaridade               object\n",
       "estado_civil               object\n",
       "salario_anual              object\n",
       "tipo_cartao                object\n",
       "meses_de_relacionamento     int64\n",
       "qtd_produtos                int64\n",
       "iteracoes_12m               int64\n",
       "meses_inativo_12m           int64\n",
       "limite_credito             object\n",
       "valor_transacoes_12m       object\n",
       "qtd_transacoes_12m          int64\n",
       "dtype: object"
      ]
     },
     "execution_count": 9,
     "metadata": {},
     "output_type": "execute_result"
    }
   ],
   "source": [
    "df.dtypes #tipos de dados das colunas"
   ]
  },
  {
   "cell_type": "code",
   "execution_count": 10,
   "id": "74fd4f6f",
   "metadata": {
    "execution": {
     "iopub.execute_input": "2022-04-07T19:32:16.624853Z",
     "iopub.status.busy": "2022-04-07T19:32:16.624217Z",
     "iopub.status.idle": "2022-04-07T19:32:16.673655Z",
     "shell.execute_reply": "2022-04-07T19:32:16.674160Z",
     "shell.execute_reply.started": "2022-02-13T13:52:31.056684Z"
    },
    "papermill": {
     "duration": 0.108154,
     "end_time": "2022-04-07T19:32:16.674336",
     "exception": false,
     "start_time": "2022-04-07T19:32:16.566182",
     "status": "completed"
    },
    "tags": []
   },
   "outputs": [
    {
     "data": {
      "text/html": [
       "<div>\n",
       "<style scoped>\n",
       "    .dataframe tbody tr th:only-of-type {\n",
       "        vertical-align: middle;\n",
       "    }\n",
       "\n",
       "    .dataframe tbody tr th {\n",
       "        vertical-align: top;\n",
       "    }\n",
       "\n",
       "    .dataframe thead th {\n",
       "        text-align: right;\n",
       "    }\n",
       "</style>\n",
       "<table border=\"1\" class=\"dataframe\">\n",
       "  <thead>\n",
       "    <tr style=\"text-align: right;\">\n",
       "      <th></th>\n",
       "      <th>count</th>\n",
       "      <th>unique</th>\n",
       "      <th>top</th>\n",
       "      <th>freq</th>\n",
       "    </tr>\n",
       "  </thead>\n",
       "  <tbody>\n",
       "    <tr>\n",
       "      <th>sexo</th>\n",
       "      <td>10127</td>\n",
       "      <td>2</td>\n",
       "      <td>F</td>\n",
       "      <td>5358</td>\n",
       "    </tr>\n",
       "    <tr>\n",
       "      <th>escolaridade</th>\n",
       "      <td>8608</td>\n",
       "      <td>5</td>\n",
       "      <td>mestrado</td>\n",
       "      <td>3128</td>\n",
       "    </tr>\n",
       "    <tr>\n",
       "      <th>estado_civil</th>\n",
       "      <td>9378</td>\n",
       "      <td>3</td>\n",
       "      <td>casado</td>\n",
       "      <td>4687</td>\n",
       "    </tr>\n",
       "    <tr>\n",
       "      <th>salario_anual</th>\n",
       "      <td>9015</td>\n",
       "      <td>5</td>\n",
       "      <td>menos que $40K</td>\n",
       "      <td>3561</td>\n",
       "    </tr>\n",
       "    <tr>\n",
       "      <th>tipo_cartao</th>\n",
       "      <td>10127</td>\n",
       "      <td>4</td>\n",
       "      <td>blue</td>\n",
       "      <td>9436</td>\n",
       "    </tr>\n",
       "    <tr>\n",
       "      <th>limite_credito</th>\n",
       "      <td>10127</td>\n",
       "      <td>9272</td>\n",
       "      <td>1.438,21</td>\n",
       "      <td>11</td>\n",
       "    </tr>\n",
       "    <tr>\n",
       "      <th>valor_transacoes_12m</th>\n",
       "      <td>10127</td>\n",
       "      <td>10035</td>\n",
       "      <td>3.851,51</td>\n",
       "      <td>3</td>\n",
       "    </tr>\n",
       "  </tbody>\n",
       "</table>\n",
       "</div>"
      ],
      "text/plain": [
       "                      count unique             top  freq\n",
       "sexo                  10127      2               F  5358\n",
       "escolaridade           8608      5        mestrado  3128\n",
       "estado_civil           9378      3          casado  4687\n",
       "salario_anual          9015      5  menos que $40K  3561\n",
       "tipo_cartao           10127      4            blue  9436\n",
       "limite_credito        10127   9272        1.438,21    11\n",
       "valor_transacoes_12m  10127  10035        3.851,51     3"
      ]
     },
     "execution_count": 10,
     "metadata": {},
     "output_type": "execute_result"
    }
   ],
   "source": [
    "df.select_dtypes('object').describe().transpose() "
   ]
  },
  {
   "cell_type": "code",
   "execution_count": 11,
   "id": "a811f944",
   "metadata": {
    "execution": {
     "iopub.execute_input": "2022-04-07T19:32:16.789714Z",
     "iopub.status.busy": "2022-04-07T19:32:16.789013Z",
     "iopub.status.idle": "2022-04-07T19:32:16.833252Z",
     "shell.execute_reply": "2022-04-07T19:32:16.833761Z",
     "shell.execute_reply.started": "2022-02-13T13:52:31.114393Z"
    },
    "papermill": {
     "duration": 0.104025,
     "end_time": "2022-04-07T19:32:16.833939",
     "exception": false,
     "start_time": "2022-04-07T19:32:16.729914",
     "status": "completed"
    },
    "tags": []
   },
   "outputs": [
    {
     "data": {
      "text/html": [
       "<div>\n",
       "<style scoped>\n",
       "    .dataframe tbody tr th:only-of-type {\n",
       "        vertical-align: middle;\n",
       "    }\n",
       "\n",
       "    .dataframe tbody tr th {\n",
       "        vertical-align: top;\n",
       "    }\n",
       "\n",
       "    .dataframe thead th {\n",
       "        text-align: right;\n",
       "    }\n",
       "</style>\n",
       "<table border=\"1\" class=\"dataframe\">\n",
       "  <thead>\n",
       "    <tr style=\"text-align: right;\">\n",
       "      <th></th>\n",
       "      <th>count</th>\n",
       "      <th>mean</th>\n",
       "      <th>std</th>\n",
       "      <th>min</th>\n",
       "      <th>25%</th>\n",
       "      <th>50%</th>\n",
       "      <th>75%</th>\n",
       "      <th>max</th>\n",
       "    </tr>\n",
       "  </thead>\n",
       "  <tbody>\n",
       "    <tr>\n",
       "      <th>default</th>\n",
       "      <td>10127.0</td>\n",
       "      <td>0.160660</td>\n",
       "      <td>0.367235</td>\n",
       "      <td>0.0</td>\n",
       "      <td>0.0</td>\n",
       "      <td>0.0</td>\n",
       "      <td>0.0</td>\n",
       "      <td>1.0</td>\n",
       "    </tr>\n",
       "    <tr>\n",
       "      <th>idade</th>\n",
       "      <td>10127.0</td>\n",
       "      <td>46.325960</td>\n",
       "      <td>8.016814</td>\n",
       "      <td>26.0</td>\n",
       "      <td>41.0</td>\n",
       "      <td>46.0</td>\n",
       "      <td>52.0</td>\n",
       "      <td>73.0</td>\n",
       "    </tr>\n",
       "    <tr>\n",
       "      <th>dependentes</th>\n",
       "      <td>10127.0</td>\n",
       "      <td>2.346203</td>\n",
       "      <td>1.298908</td>\n",
       "      <td>0.0</td>\n",
       "      <td>1.0</td>\n",
       "      <td>2.0</td>\n",
       "      <td>3.0</td>\n",
       "      <td>5.0</td>\n",
       "    </tr>\n",
       "    <tr>\n",
       "      <th>meses_de_relacionamento</th>\n",
       "      <td>10127.0</td>\n",
       "      <td>35.928409</td>\n",
       "      <td>7.986416</td>\n",
       "      <td>13.0</td>\n",
       "      <td>31.0</td>\n",
       "      <td>36.0</td>\n",
       "      <td>40.0</td>\n",
       "      <td>56.0</td>\n",
       "    </tr>\n",
       "    <tr>\n",
       "      <th>qtd_produtos</th>\n",
       "      <td>10127.0</td>\n",
       "      <td>3.812580</td>\n",
       "      <td>1.554408</td>\n",
       "      <td>1.0</td>\n",
       "      <td>3.0</td>\n",
       "      <td>4.0</td>\n",
       "      <td>5.0</td>\n",
       "      <td>6.0</td>\n",
       "    </tr>\n",
       "    <tr>\n",
       "      <th>iteracoes_12m</th>\n",
       "      <td>10127.0</td>\n",
       "      <td>2.455317</td>\n",
       "      <td>1.106225</td>\n",
       "      <td>0.0</td>\n",
       "      <td>2.0</td>\n",
       "      <td>2.0</td>\n",
       "      <td>3.0</td>\n",
       "      <td>6.0</td>\n",
       "    </tr>\n",
       "    <tr>\n",
       "      <th>meses_inativo_12m</th>\n",
       "      <td>10127.0</td>\n",
       "      <td>2.341167</td>\n",
       "      <td>1.010622</td>\n",
       "      <td>0.0</td>\n",
       "      <td>2.0</td>\n",
       "      <td>2.0</td>\n",
       "      <td>3.0</td>\n",
       "      <td>6.0</td>\n",
       "    </tr>\n",
       "    <tr>\n",
       "      <th>qtd_transacoes_12m</th>\n",
       "      <td>10127.0</td>\n",
       "      <td>64.858695</td>\n",
       "      <td>23.472570</td>\n",
       "      <td>10.0</td>\n",
       "      <td>45.0</td>\n",
       "      <td>67.0</td>\n",
       "      <td>81.0</td>\n",
       "      <td>139.0</td>\n",
       "    </tr>\n",
       "  </tbody>\n",
       "</table>\n",
       "</div>"
      ],
      "text/plain": [
       "                           count       mean        std   min   25%   50%  \\\n",
       "default                  10127.0   0.160660   0.367235   0.0   0.0   0.0   \n",
       "idade                    10127.0  46.325960   8.016814  26.0  41.0  46.0   \n",
       "dependentes              10127.0   2.346203   1.298908   0.0   1.0   2.0   \n",
       "meses_de_relacionamento  10127.0  35.928409   7.986416  13.0  31.0  36.0   \n",
       "qtd_produtos             10127.0   3.812580   1.554408   1.0   3.0   4.0   \n",
       "iteracoes_12m            10127.0   2.455317   1.106225   0.0   2.0   2.0   \n",
       "meses_inativo_12m        10127.0   2.341167   1.010622   0.0   2.0   2.0   \n",
       "qtd_transacoes_12m       10127.0  64.858695  23.472570  10.0  45.0  67.0   \n",
       "\n",
       "                          75%    max  \n",
       "default                   0.0    1.0  \n",
       "idade                    52.0   73.0  \n",
       "dependentes               3.0    5.0  \n",
       "meses_de_relacionamento  40.0   56.0  \n",
       "qtd_produtos              5.0    6.0  \n",
       "iteracoes_12m             3.0    6.0  \n",
       "meses_inativo_12m         3.0    6.0  \n",
       "qtd_transacoes_12m       81.0  139.0  "
      ]
     },
     "execution_count": 11,
     "metadata": {},
     "output_type": "execute_result"
    }
   ],
   "source": [
    "df.drop('id', axis=1).select_dtypes('number').describe().transpose()\n"
   ]
  },
  {
   "cell_type": "markdown",
   "id": "8f7d07af",
   "metadata": {
    "papermill": {
     "duration": 0.056287,
     "end_time": "2022-04-07T19:32:16.948715",
     "exception": false,
     "start_time": "2022-04-07T19:32:16.892428",
     "status": "completed"
    },
    "tags": []
   },
   "source": [
    "### Dados Faltantes ###"
   ]
  },
  {
   "cell_type": "code",
   "execution_count": 12,
   "id": "e8907dc3",
   "metadata": {
    "execution": {
     "iopub.execute_input": "2022-04-07T19:32:17.066222Z",
     "iopub.status.busy": "2022-04-07T19:32:17.065573Z",
     "iopub.status.idle": "2022-04-07T19:32:17.081326Z",
     "shell.execute_reply": "2022-04-07T19:32:17.081929Z",
     "shell.execute_reply.started": "2022-02-13T13:52:31.161095Z"
    },
    "papermill": {
     "duration": 0.076383,
     "end_time": "2022-04-07T19:32:17.082142",
     "exception": false,
     "start_time": "2022-04-07T19:32:17.005759",
     "status": "completed"
    },
    "tags": []
   },
   "outputs": [
    {
     "data": {
      "text/plain": [
       "<bound method NDFrame.head of               id  default  idade sexo  dependentes         escolaridade  \\\n",
       "0      768805383        0     45    M            3         ensino medio   \n",
       "1      818770008        0     49    F            5             mestrado   \n",
       "2      713982108        0     51    M            3             mestrado   \n",
       "3      769911858        0     40    F            4         ensino medio   \n",
       "4      709106358        0     40    M            3  sem educacao formal   \n",
       "...          ...      ...    ...  ...          ...                  ...   \n",
       "10122  772366833        0     50    M            2             mestrado   \n",
       "10123  710638233        1     41    M            2                  NaN   \n",
       "10124  716506083        1     44    F            1         ensino medio   \n",
       "10125  717406983        1     30    M            2             mestrado   \n",
       "10126  714337233        1     43    F            2             mestrado   \n",
       "\n",
       "      estado_civil   salario_anual tipo_cartao  meses_de_relacionamento  \\\n",
       "0           casado     $60K - $80K        blue                       39   \n",
       "1         solteiro  menos que $40K        blue                       44   \n",
       "2           casado    $80K - $120K        blue                       36   \n",
       "3              NaN  menos que $40K        blue                       34   \n",
       "4           casado     $60K - $80K        blue                       21   \n",
       "...            ...             ...         ...                      ...   \n",
       "10122     solteiro     $40K - $60K        blue                       40   \n",
       "10123   divorciado     $40K - $60K        blue                       25   \n",
       "10124       casado  menos que $40K        blue                       36   \n",
       "10125          NaN     $40K - $60K        blue                       36   \n",
       "10126       casado  menos que $40K      silver                       25   \n",
       "\n",
       "       qtd_produtos  iteracoes_12m  meses_inativo_12m limite_credito  \\\n",
       "0                 5              3                  1      12.691,51   \n",
       "1                 6              2                  1       8.256,96   \n",
       "2                 4              0                  1       3.418,56   \n",
       "3                 3              1                  4       3.313,03   \n",
       "4                 5              0                  1       4.716,22   \n",
       "...             ...            ...                ...            ...   \n",
       "10122             3              3                  2       4.003,91   \n",
       "10123             4              3                  2       4.277,04   \n",
       "10124             5              4                  3       5.409,16   \n",
       "10125             4              3                  3       5.281,84   \n",
       "10126             6              4                  2      10.388,80   \n",
       "\n",
       "      valor_transacoes_12m  qtd_transacoes_12m  \n",
       "0                 1.144,90                  42  \n",
       "1                 1.291,45                  33  \n",
       "2                 1.887,72                  20  \n",
       "3                 1.171,56                  20  \n",
       "4                   816,08                  28  \n",
       "...                    ...                 ...  \n",
       "10122            15.476,26                 117  \n",
       "10123             8.764,88                  69  \n",
       "10124            10.291,78                  60  \n",
       "10125             8.395,62                  62  \n",
       "10126            10.294,96                  61  \n",
       "\n",
       "[10127 rows x 16 columns]>"
      ]
     },
     "execution_count": 12,
     "metadata": {},
     "output_type": "execute_result"
    }
   ],
   "source": [
    "df.head"
   ]
  },
  {
   "cell_type": "code",
   "execution_count": 13,
   "id": "ae932096",
   "metadata": {
    "execution": {
     "iopub.execute_input": "2022-04-07T19:32:17.199267Z",
     "iopub.status.busy": "2022-04-07T19:32:17.198645Z",
     "iopub.status.idle": "2022-04-07T19:32:17.214943Z",
     "shell.execute_reply": "2022-04-07T19:32:17.214448Z",
     "shell.execute_reply.started": "2022-02-13T13:52:31.179928Z"
    },
    "papermill": {
     "duration": 0.075524,
     "end_time": "2022-04-07T19:32:17.215122",
     "exception": false,
     "start_time": "2022-04-07T19:32:17.139598",
     "status": "completed"
    },
    "tags": []
   },
   "outputs": [
    {
     "data": {
      "text/plain": [
       "id                         False\n",
       "default                    False\n",
       "idade                      False\n",
       "sexo                       False\n",
       "dependentes                False\n",
       "escolaridade                True\n",
       "estado_civil                True\n",
       "salario_anual               True\n",
       "tipo_cartao                False\n",
       "meses_de_relacionamento    False\n",
       "qtd_produtos               False\n",
       "iteracoes_12m              False\n",
       "meses_inativo_12m          False\n",
       "limite_credito             False\n",
       "valor_transacoes_12m       False\n",
       "qtd_transacoes_12m         False\n",
       "dtype: bool"
      ]
     },
     "execution_count": 13,
     "metadata": {},
     "output_type": "execute_result"
    }
   ],
   "source": [
    "df.isna().any() # Estatisticas sobre dados faltantes"
   ]
  },
  {
   "cell_type": "code",
   "execution_count": 14,
   "id": "6075caf8",
   "metadata": {
    "execution": {
     "iopub.execute_input": "2022-04-07T19:32:17.337393Z",
     "iopub.status.busy": "2022-04-07T19:32:17.336704Z",
     "iopub.status.idle": "2022-04-07T19:32:17.338946Z",
     "shell.execute_reply": "2022-04-07T19:32:17.339574Z",
     "shell.execute_reply.started": "2022-02-13T13:52:31.20628Z"
    },
    "papermill": {
     "duration": 0.067516,
     "end_time": "2022-04-07T19:32:17.339743",
     "exception": false,
     "start_time": "2022-04-07T19:32:17.272227",
     "status": "completed"
    },
    "tags": []
   },
   "outputs": [],
   "source": [
    "#Função para verificar a percent dos dados faltantes. \n",
    "def verificar_dados(df: pd.DataFrame) -> None: \n",
    "    dados_faltantes = []\n",
    "    for coluna in df.columns: \n",
    "        if df[coluna].isna().any():\n",
    "            quantidade, _ = df[df[coluna].isna()].shape\n",
    "            total, _ = df.shape\n",
    "            dic_dados_faltantes = {coluna: {'quantidade': quantidade, \"porcentagem\": round(100 * quantidade/total, 2)}}\n",
    "            dados_faltantes.append(dic_dados_faltantes)\n",
    "                                                                                            \n",
    "    for stts in dados_faltantes: \n",
    "        print(stts)\n",
    "   \n"
   ]
  },
  {
   "cell_type": "code",
   "execution_count": 15,
   "id": "b6b5a577",
   "metadata": {
    "execution": {
     "iopub.execute_input": "2022-04-07T19:32:17.457247Z",
     "iopub.status.busy": "2022-04-07T19:32:17.456511Z",
     "iopub.status.idle": "2022-04-07T19:32:17.478818Z",
     "shell.execute_reply": "2022-04-07T19:32:17.478307Z",
     "shell.execute_reply.started": "2022-02-13T13:52:31.216217Z"
    },
    "papermill": {
     "duration": 0.082164,
     "end_time": "2022-04-07T19:32:17.478993",
     "exception": false,
     "start_time": "2022-04-07T19:32:17.396829",
     "status": "completed"
    },
    "tags": []
   },
   "outputs": [
    {
     "name": "stdout",
     "output_type": "stream",
     "text": [
      "{'escolaridade': {'quantidade': 1519, 'porcentagem': 15.0}}\n",
      "{'estado_civil': {'quantidade': 749, 'porcentagem': 7.4}}\n",
      "{'salario_anual': {'quantidade': 1112, 'porcentagem': 10.98}}\n"
     ]
    }
   ],
   "source": [
    "verificar_dados(df = df)\n"
   ]
  },
  {
   "cell_type": "code",
   "execution_count": 16,
   "id": "1bb81ea6",
   "metadata": {
    "execution": {
     "iopub.execute_input": "2022-04-07T19:32:17.599671Z",
     "iopub.status.busy": "2022-04-07T19:32:17.598958Z",
     "iopub.status.idle": "2022-04-07T19:32:17.618209Z",
     "shell.execute_reply": "2022-04-07T19:32:17.618858Z",
     "shell.execute_reply.started": "2022-02-13T13:52:31.246692Z"
    },
    "papermill": {
     "duration": 0.082297,
     "end_time": "2022-04-07T19:32:17.619114",
     "exception": false,
     "start_time": "2022-04-07T19:32:17.536817",
     "status": "completed"
    },
    "tags": []
   },
   "outputs": [
    {
     "name": "stdout",
     "output_type": "stream",
     "text": [
      "{'escolaridade': {'quantidade': 1263, 'porcentagem': 14.86}}\n",
      "{'estado_civil': {'quantidade': 620, 'porcentagem': 7.29}}\n",
      "{'salario_anual': {'quantidade': 925, 'porcentagem': 10.88}}\n"
     ]
    }
   ],
   "source": [
    " verificar_dados(df = df[df['default'] == 0])\n",
    "    "
   ]
  },
  {
   "cell_type": "code",
   "execution_count": 17,
   "id": "b9f70885",
   "metadata": {
    "execution": {
     "iopub.execute_input": "2022-04-07T19:32:17.756915Z",
     "iopub.status.busy": "2022-04-07T19:32:17.756231Z",
     "iopub.status.idle": "2022-04-07T19:32:17.759585Z",
     "shell.execute_reply": "2022-04-07T19:32:17.759097Z",
     "shell.execute_reply.started": "2022-02-13T13:52:31.270802Z"
    },
    "papermill": {
     "duration": 0.0803,
     "end_time": "2022-04-07T19:32:17.759742",
     "exception": false,
     "start_time": "2022-04-07T19:32:17.679442",
     "status": "completed"
    },
    "tags": []
   },
   "outputs": [
    {
     "name": "stdout",
     "output_type": "stream",
     "text": [
      "{'escolaridade': {'quantidade': 256, 'porcentagem': 15.73}}\n",
      "{'estado_civil': {'quantidade': 129, 'porcentagem': 7.93}}\n",
      "{'salario_anual': {'quantidade': 187, 'porcentagem': 11.49}}\n"
     ]
    }
   ],
   "source": [
    " verificar_dados(df = df[df['default'] == 1])\n"
   ]
  },
  {
   "cell_type": "markdown",
   "id": "1c3df46f",
   "metadata": {
    "papermill": {
     "duration": 0.065525,
     "end_time": "2022-04-07T19:32:17.888773",
     "exception": false,
     "start_time": "2022-04-07T19:32:17.823248",
     "status": "completed"
    },
    "tags": []
   },
   "source": [
    "# Transformação e Limpeza dos dados #\n",
    "\n",
    "## Objetivos: ##\n",
    "* Corrigir o schema das colunas limite_credito e valor_transacoes_12m; \n",
    "* Remover dados faltantes"
   ]
  },
  {
   "cell_type": "code",
   "execution_count": 18,
   "id": "1a95edde",
   "metadata": {
    "execution": {
     "iopub.execute_input": "2022-04-07T19:32:18.012618Z",
     "iopub.status.busy": "2022-04-07T19:32:18.011989Z",
     "iopub.status.idle": "2022-04-07T19:32:18.019074Z",
     "shell.execute_reply": "2022-04-07T19:32:18.019538Z",
     "shell.execute_reply.started": "2022-02-13T13:52:31.288919Z"
    },
    "papermill": {
     "duration": 0.070735,
     "end_time": "2022-04-07T19:32:18.019727",
     "exception": false,
     "start_time": "2022-04-07T19:32:17.948992",
     "status": "completed"
    },
    "tags": []
   },
   "outputs": [
    {
     "data": {
      "text/plain": [
       "limite_credito          object\n",
       "valor_transacoes_12m    object\n",
       "dtype: object"
      ]
     },
     "execution_count": 18,
     "metadata": {},
     "output_type": "execute_result"
    }
   ],
   "source": [
    "#Corrigindo Schema\n",
    "df[['limite_credito', 'valor_transacoes_12m']].dtypes"
   ]
  },
  {
   "cell_type": "code",
   "execution_count": 19,
   "id": "2bc65247",
   "metadata": {
    "execution": {
     "iopub.execute_input": "2022-04-07T19:32:18.144127Z",
     "iopub.status.busy": "2022-04-07T19:32:18.143447Z",
     "iopub.status.idle": "2022-04-07T19:32:18.152645Z",
     "shell.execute_reply": "2022-04-07T19:32:18.153150Z",
     "shell.execute_reply.started": "2022-02-13T13:52:31.300876Z"
    },
    "papermill": {
     "duration": 0.072308,
     "end_time": "2022-04-07T19:32:18.153328",
     "exception": false,
     "start_time": "2022-04-07T19:32:18.081020",
     "status": "completed"
    },
    "tags": []
   },
   "outputs": [
    {
     "data": {
      "text/html": [
       "<div>\n",
       "<style scoped>\n",
       "    .dataframe tbody tr th:only-of-type {\n",
       "        vertical-align: middle;\n",
       "    }\n",
       "\n",
       "    .dataframe tbody tr th {\n",
       "        vertical-align: top;\n",
       "    }\n",
       "\n",
       "    .dataframe thead th {\n",
       "        text-align: right;\n",
       "    }\n",
       "</style>\n",
       "<table border=\"1\" class=\"dataframe\">\n",
       "  <thead>\n",
       "    <tr style=\"text-align: right;\">\n",
       "      <th></th>\n",
       "      <th>limite_credito</th>\n",
       "      <th>valor_transacoes_12m</th>\n",
       "    </tr>\n",
       "  </thead>\n",
       "  <tbody>\n",
       "    <tr>\n",
       "      <th>0</th>\n",
       "      <td>12.691,51</td>\n",
       "      <td>1.144,90</td>\n",
       "    </tr>\n",
       "    <tr>\n",
       "      <th>1</th>\n",
       "      <td>8.256,96</td>\n",
       "      <td>1.291,45</td>\n",
       "    </tr>\n",
       "    <tr>\n",
       "      <th>2</th>\n",
       "      <td>3.418,56</td>\n",
       "      <td>1.887,72</td>\n",
       "    </tr>\n",
       "    <tr>\n",
       "      <th>3</th>\n",
       "      <td>3.313,03</td>\n",
       "      <td>1.171,56</td>\n",
       "    </tr>\n",
       "    <tr>\n",
       "      <th>4</th>\n",
       "      <td>4.716,22</td>\n",
       "      <td>816,08</td>\n",
       "    </tr>\n",
       "  </tbody>\n",
       "</table>\n",
       "</div>"
      ],
      "text/plain": [
       "  limite_credito valor_transacoes_12m\n",
       "0      12.691,51             1.144,90\n",
       "1       8.256,96             1.291,45\n",
       "2       3.418,56             1.887,72\n",
       "3       3.313,03             1.171,56\n",
       "4       4.716,22               816,08"
      ]
     },
     "execution_count": 19,
     "metadata": {},
     "output_type": "execute_result"
    }
   ],
   "source": [
    "df[['limite_credito', 'valor_transacoes_12m']].head(5)"
   ]
  },
  {
   "cell_type": "code",
   "execution_count": 20,
   "id": "bcf38064",
   "metadata": {
    "execution": {
     "iopub.execute_input": "2022-04-07T19:32:18.278976Z",
     "iopub.status.busy": "2022-04-07T19:32:18.278278Z",
     "iopub.status.idle": "2022-04-07T19:32:18.283131Z",
     "shell.execute_reply": "2022-04-07T19:32:18.282415Z",
     "shell.execute_reply.started": "2022-02-13T13:52:31.312782Z"
    },
    "papermill": {
     "duration": 0.070388,
     "end_time": "2022-04-07T19:32:18.283333",
     "exception": false,
     "start_time": "2022-04-07T19:32:18.212945",
     "status": "completed"
    },
    "tags": []
   },
   "outputs": [
    {
     "name": "stdout",
     "output_type": "stream",
     "text": [
      "['12.691,51', '8.256,96', '3.418,56', '3.313,03', '4.716,22']\n",
      "[12691.51, 8256.96, 3418.56, 3313.03, 4716.22]\n"
     ]
    }
   ],
   "source": [
    "#função para converter o padrão\n",
    "func = lambda valor: float(valor.replace('.', '').replace(',', '.'))\n",
    "\n",
    "#teste da função\n",
    "valores_iniciais = ['12.691,51', '8.256,96', '3.418,56', '3.313,03', '4.716,22']\n",
    "valores_finais = list(map(func, valores_iniciais))\n",
    "\n",
    "print(valores_iniciais)\n",
    "print(valores_finais)"
   ]
  },
  {
   "cell_type": "code",
   "execution_count": 21,
   "id": "0b54335f",
   "metadata": {
    "execution": {
     "iopub.execute_input": "2022-04-07T19:32:18.416930Z",
     "iopub.status.busy": "2022-04-07T19:32:18.415862Z",
     "iopub.status.idle": "2022-04-07T19:32:18.434303Z",
     "shell.execute_reply": "2022-04-07T19:32:18.434842Z",
     "shell.execute_reply.started": "2022-02-13T13:52:31.320998Z"
    },
    "papermill": {
     "duration": 0.091047,
     "end_time": "2022-04-07T19:32:18.435168",
     "exception": false,
     "start_time": "2022-04-07T19:32:18.344121",
     "status": "completed"
    },
    "tags": []
   },
   "outputs": [],
   "source": [
    "#aplicando nas colunas limite_credito e valor_transacoes_12m\n",
    "df['limite_credito'] = df['limite_credito'].apply(func)\n",
    "\n",
    "df['valor_transacoes_12m'] = df['valor_transacoes_12m'].apply(func)"
   ]
  },
  {
   "cell_type": "code",
   "execution_count": 22,
   "id": "0ae6e8b7",
   "metadata": {
    "execution": {
     "iopub.execute_input": "2022-04-07T19:32:18.566615Z",
     "iopub.status.busy": "2022-04-07T19:32:18.565936Z",
     "iopub.status.idle": "2022-04-07T19:32:18.569520Z",
     "shell.execute_reply": "2022-04-07T19:32:18.569949Z",
     "shell.execute_reply.started": "2022-02-13T13:52:31.354039Z"
    },
    "papermill": {
     "duration": 0.070455,
     "end_time": "2022-04-07T19:32:18.570134",
     "exception": false,
     "start_time": "2022-04-07T19:32:18.499679",
     "status": "completed"
    },
    "tags": []
   },
   "outputs": [
    {
     "data": {
      "text/plain": [
       "id                           int64\n",
       "default                      int64\n",
       "idade                        int64\n",
       "sexo                        object\n",
       "dependentes                  int64\n",
       "escolaridade                object\n",
       "estado_civil                object\n",
       "salario_anual               object\n",
       "tipo_cartao                 object\n",
       "meses_de_relacionamento      int64\n",
       "qtd_produtos                 int64\n",
       "iteracoes_12m                int64\n",
       "meses_inativo_12m            int64\n",
       "limite_credito             float64\n",
       "valor_transacoes_12m       float64\n",
       "qtd_transacoes_12m           int64\n",
       "dtype: object"
      ]
     },
     "execution_count": 22,
     "metadata": {},
     "output_type": "execute_result"
    }
   ],
   "source": [
    "df.dtypes #Consultarse as colunas foram alteradas"
   ]
  },
  {
   "cell_type": "code",
   "execution_count": 23,
   "id": "94338049",
   "metadata": {
    "execution": {
     "iopub.execute_input": "2022-04-07T19:32:18.698468Z",
     "iopub.status.busy": "2022-04-07T19:32:18.697658Z",
     "iopub.status.idle": "2022-04-07T19:32:18.741472Z",
     "shell.execute_reply": "2022-04-07T19:32:18.740722Z",
     "shell.execute_reply.started": "2022-02-13T13:52:31.363156Z"
    },
    "papermill": {
     "duration": 0.110567,
     "end_time": "2022-04-07T19:32:18.741622",
     "exception": false,
     "start_time": "2022-04-07T19:32:18.631055",
     "status": "completed"
    },
    "tags": []
   },
   "outputs": [
    {
     "data": {
      "text/html": [
       "<div>\n",
       "<style scoped>\n",
       "    .dataframe tbody tr th:only-of-type {\n",
       "        vertical-align: middle;\n",
       "    }\n",
       "\n",
       "    .dataframe tbody tr th {\n",
       "        vertical-align: top;\n",
       "    }\n",
       "\n",
       "    .dataframe thead th {\n",
       "        text-align: right;\n",
       "    }\n",
       "</style>\n",
       "<table border=\"1\" class=\"dataframe\">\n",
       "  <thead>\n",
       "    <tr style=\"text-align: right;\">\n",
       "      <th></th>\n",
       "      <th>count</th>\n",
       "      <th>mean</th>\n",
       "      <th>std</th>\n",
       "      <th>min</th>\n",
       "      <th>25%</th>\n",
       "      <th>50%</th>\n",
       "      <th>75%</th>\n",
       "      <th>max</th>\n",
       "    </tr>\n",
       "  </thead>\n",
       "  <tbody>\n",
       "    <tr>\n",
       "      <th>default</th>\n",
       "      <td>10127.0</td>\n",
       "      <td>0.160660</td>\n",
       "      <td>0.367235</td>\n",
       "      <td>0.00</td>\n",
       "      <td>0.000</td>\n",
       "      <td>0.00</td>\n",
       "      <td>0.000</td>\n",
       "      <td>1.00</td>\n",
       "    </tr>\n",
       "    <tr>\n",
       "      <th>idade</th>\n",
       "      <td>10127.0</td>\n",
       "      <td>46.325960</td>\n",
       "      <td>8.016814</td>\n",
       "      <td>26.00</td>\n",
       "      <td>41.000</td>\n",
       "      <td>46.00</td>\n",
       "      <td>52.000</td>\n",
       "      <td>73.00</td>\n",
       "    </tr>\n",
       "    <tr>\n",
       "      <th>dependentes</th>\n",
       "      <td>10127.0</td>\n",
       "      <td>2.346203</td>\n",
       "      <td>1.298908</td>\n",
       "      <td>0.00</td>\n",
       "      <td>1.000</td>\n",
       "      <td>2.00</td>\n",
       "      <td>3.000</td>\n",
       "      <td>5.00</td>\n",
       "    </tr>\n",
       "    <tr>\n",
       "      <th>meses_de_relacionamento</th>\n",
       "      <td>10127.0</td>\n",
       "      <td>35.928409</td>\n",
       "      <td>7.986416</td>\n",
       "      <td>13.00</td>\n",
       "      <td>31.000</td>\n",
       "      <td>36.00</td>\n",
       "      <td>40.000</td>\n",
       "      <td>56.00</td>\n",
       "    </tr>\n",
       "    <tr>\n",
       "      <th>qtd_produtos</th>\n",
       "      <td>10127.0</td>\n",
       "      <td>3.812580</td>\n",
       "      <td>1.554408</td>\n",
       "      <td>1.00</td>\n",
       "      <td>3.000</td>\n",
       "      <td>4.00</td>\n",
       "      <td>5.000</td>\n",
       "      <td>6.00</td>\n",
       "    </tr>\n",
       "    <tr>\n",
       "      <th>iteracoes_12m</th>\n",
       "      <td>10127.0</td>\n",
       "      <td>2.455317</td>\n",
       "      <td>1.106225</td>\n",
       "      <td>0.00</td>\n",
       "      <td>2.000</td>\n",
       "      <td>2.00</td>\n",
       "      <td>3.000</td>\n",
       "      <td>6.00</td>\n",
       "    </tr>\n",
       "    <tr>\n",
       "      <th>meses_inativo_12m</th>\n",
       "      <td>10127.0</td>\n",
       "      <td>2.341167</td>\n",
       "      <td>1.010622</td>\n",
       "      <td>0.00</td>\n",
       "      <td>2.000</td>\n",
       "      <td>2.00</td>\n",
       "      <td>3.000</td>\n",
       "      <td>6.00</td>\n",
       "    </tr>\n",
       "    <tr>\n",
       "      <th>limite_credito</th>\n",
       "      <td>10127.0</td>\n",
       "      <td>8632.440165</td>\n",
       "      <td>9088.788041</td>\n",
       "      <td>1438.00</td>\n",
       "      <td>2555.355</td>\n",
       "      <td>4549.42</td>\n",
       "      <td>11068.175</td>\n",
       "      <td>34516.99</td>\n",
       "    </tr>\n",
       "    <tr>\n",
       "      <th>valor_transacoes_12m</th>\n",
       "      <td>10127.0</td>\n",
       "      <td>4404.583047</td>\n",
       "      <td>3397.128078</td>\n",
       "      <td>510.16</td>\n",
       "      <td>2155.825</td>\n",
       "      <td>3899.59</td>\n",
       "      <td>4741.310</td>\n",
       "      <td>18484.93</td>\n",
       "    </tr>\n",
       "    <tr>\n",
       "      <th>qtd_transacoes_12m</th>\n",
       "      <td>10127.0</td>\n",
       "      <td>64.858695</td>\n",
       "      <td>23.472570</td>\n",
       "      <td>10.00</td>\n",
       "      <td>45.000</td>\n",
       "      <td>67.00</td>\n",
       "      <td>81.000</td>\n",
       "      <td>139.00</td>\n",
       "    </tr>\n",
       "  </tbody>\n",
       "</table>\n",
       "</div>"
      ],
      "text/plain": [
       "                           count         mean          std      min       25%  \\\n",
       "default                  10127.0     0.160660     0.367235     0.00     0.000   \n",
       "idade                    10127.0    46.325960     8.016814    26.00    41.000   \n",
       "dependentes              10127.0     2.346203     1.298908     0.00     1.000   \n",
       "meses_de_relacionamento  10127.0    35.928409     7.986416    13.00    31.000   \n",
       "qtd_produtos             10127.0     3.812580     1.554408     1.00     3.000   \n",
       "iteracoes_12m            10127.0     2.455317     1.106225     0.00     2.000   \n",
       "meses_inativo_12m        10127.0     2.341167     1.010622     0.00     2.000   \n",
       "limite_credito           10127.0  8632.440165  9088.788041  1438.00  2555.355   \n",
       "valor_transacoes_12m     10127.0  4404.583047  3397.128078   510.16  2155.825   \n",
       "qtd_transacoes_12m       10127.0    64.858695    23.472570    10.00    45.000   \n",
       "\n",
       "                             50%        75%       max  \n",
       "default                     0.00      0.000      1.00  \n",
       "idade                      46.00     52.000     73.00  \n",
       "dependentes                 2.00      3.000      5.00  \n",
       "meses_de_relacionamento    36.00     40.000     56.00  \n",
       "qtd_produtos                4.00      5.000      6.00  \n",
       "iteracoes_12m               2.00      3.000      6.00  \n",
       "meses_inativo_12m           2.00      3.000      6.00  \n",
       "limite_credito           4549.42  11068.175  34516.99  \n",
       "valor_transacoes_12m     3899.59   4741.310  18484.93  \n",
       "qtd_transacoes_12m         67.00     81.000    139.00  "
      ]
     },
     "execution_count": 23,
     "metadata": {},
     "output_type": "execute_result"
    }
   ],
   "source": [
    "df.drop('id', axis=1).select_dtypes('number').describe().transpose()"
   ]
  },
  {
   "cell_type": "markdown",
   "id": "fdfb57e2",
   "metadata": {
    "papermill": {
     "duration": 0.063752,
     "end_time": "2022-04-07T19:32:18.867098",
     "exception": false,
     "start_time": "2022-04-07T19:32:18.803346",
     "status": "completed"
    },
    "tags": []
   },
   "source": [
    "### Remover dados faltantes ###"
   ]
  },
  {
   "cell_type": "code",
   "execution_count": 24,
   "id": "de54dd4c",
   "metadata": {
    "execution": {
     "iopub.execute_input": "2022-04-07T19:32:18.994017Z",
     "iopub.status.busy": "2022-04-07T19:32:18.993268Z",
     "iopub.status.idle": "2022-04-07T19:32:19.006372Z",
     "shell.execute_reply": "2022-04-07T19:32:19.006933Z",
     "shell.execute_reply.started": "2022-02-13T13:52:31.418254Z"
    },
    "papermill": {
     "duration": 0.077996,
     "end_time": "2022-04-07T19:32:19.007197",
     "exception": false,
     "start_time": "2022-04-07T19:32:18.929201",
     "status": "completed"
    },
    "tags": []
   },
   "outputs": [],
   "source": [
    "df.dropna(inplace = True)"
   ]
  },
  {
   "cell_type": "code",
   "execution_count": 25,
   "id": "e1261ced",
   "metadata": {
    "execution": {
     "iopub.execute_input": "2022-04-07T19:32:19.134255Z",
     "iopub.status.busy": "2022-04-07T19:32:19.133461Z",
     "iopub.status.idle": "2022-04-07T19:32:19.138440Z",
     "shell.execute_reply": "2022-04-07T19:32:19.139054Z",
     "shell.execute_reply.started": "2022-02-13T13:52:31.434617Z"
    },
    "papermill": {
     "duration": 0.069736,
     "end_time": "2022-04-07T19:32:19.139238",
     "exception": false,
     "start_time": "2022-04-07T19:32:19.069502",
     "status": "completed"
    },
    "tags": []
   },
   "outputs": [
    {
     "data": {
      "text/plain": [
       "(7081, 16)"
      ]
     },
     "execution_count": 25,
     "metadata": {},
     "output_type": "execute_result"
    }
   ],
   "source": [
    "df.shape #O número de linhas foi reduzido de 10127 para 7081"
   ]
  },
  {
   "cell_type": "code",
   "execution_count": 26,
   "id": "234a388f",
   "metadata": {
    "execution": {
     "iopub.execute_input": "2022-04-07T19:32:19.266057Z",
     "iopub.status.busy": "2022-04-07T19:32:19.265329Z",
     "iopub.status.idle": "2022-04-07T19:32:19.272366Z",
     "shell.execute_reply": "2022-04-07T19:32:19.272898Z",
     "shell.execute_reply.started": "2022-02-13T13:52:31.443418Z"
    },
    "papermill": {
     "duration": 0.072027,
     "end_time": "2022-04-07T19:32:19.273086",
     "exception": false,
     "start_time": "2022-04-07T19:32:19.201059",
     "status": "completed"
    },
    "tags": []
   },
   "outputs": [
    {
     "data": {
      "text/plain": [
       "(5968, 16)"
      ]
     },
     "execution_count": 26,
     "metadata": {},
     "output_type": "execute_result"
    }
   ],
   "source": [
    "df[df['default'] == 0].shape"
   ]
  },
  {
   "cell_type": "code",
   "execution_count": 27,
   "id": "4c3222a3",
   "metadata": {
    "execution": {
     "iopub.execute_input": "2022-04-07T19:32:19.402400Z",
     "iopub.status.busy": "2022-04-07T19:32:19.401577Z",
     "iopub.status.idle": "2022-04-07T19:32:19.407566Z",
     "shell.execute_reply": "2022-04-07T19:32:19.408161Z",
     "shell.execute_reply.started": "2022-02-13T13:52:31.455224Z"
    },
    "papermill": {
     "duration": 0.073279,
     "end_time": "2022-04-07T19:32:19.408339",
     "exception": false,
     "start_time": "2022-04-07T19:32:19.335060",
     "status": "completed"
    },
    "tags": []
   },
   "outputs": [
    {
     "data": {
      "text/plain": [
       "(1113, 16)"
      ]
     },
     "execution_count": 27,
     "metadata": {},
     "output_type": "execute_result"
    }
   ],
   "source": [
    "df[df['default'] == 1].shape"
   ]
  },
  {
   "cell_type": "code",
   "execution_count": 28,
   "id": "39571a43",
   "metadata": {
    "execution": {
     "iopub.execute_input": "2022-04-07T19:32:19.537536Z",
     "iopub.status.busy": "2022-04-07T19:32:19.536860Z",
     "iopub.status.idle": "2022-04-07T19:32:19.543113Z",
     "shell.execute_reply": "2022-04-07T19:32:19.543643Z",
     "shell.execute_reply.started": "2022-02-13T13:52:31.469841Z"
    },
    "papermill": {
     "duration": 0.072429,
     "end_time": "2022-04-07T19:32:19.543848",
     "exception": false,
     "start_time": "2022-04-07T19:32:19.471419",
     "status": "completed"
    },
    "tags": []
   },
   "outputs": [],
   "source": [
    "total_novo, _ = df.shape\n",
    "total_adimplentes_novo, _ = df[df['default'] == 0].shape\n",
    "total_inadimplentes_novo, _ = df[df['default'] == 1].shape"
   ]
  },
  {
   "cell_type": "code",
   "execution_count": 29,
   "id": "e28a3116",
   "metadata": {
    "execution": {
     "iopub.execute_input": "2022-04-07T19:32:19.671772Z",
     "iopub.status.busy": "2022-04-07T19:32:19.671068Z",
     "iopub.status.idle": "2022-04-07T19:32:19.676212Z",
     "shell.execute_reply": "2022-04-07T19:32:19.676803Z",
     "shell.execute_reply.started": "2022-02-13T13:52:31.480732Z"
    },
    "papermill": {
     "duration": 0.070552,
     "end_time": "2022-04-07T19:32:19.676988",
     "exception": false,
     "start_time": "2022-04-07T19:32:19.606436",
     "status": "completed"
    },
    "tags": []
   },
   "outputs": [
    {
     "name": "stdout",
     "output_type": "stream",
     "text": [
      "Proporção adimplentes: 83.93%\n",
      "Nova proporção adimplentes: 84.28%\n"
     ]
    }
   ],
   "source": [
    "print(f'Proporção adimplentes: {round(100 * total_adimplentes / total_linhas, 2)}%')\n",
    "print(f'Nova proporção adimplentes: {round(100 * total_adimplentes_novo / total_novo, 2)}%')"
   ]
  },
  {
   "cell_type": "code",
   "execution_count": 30,
   "id": "7f248713",
   "metadata": {
    "execution": {
     "iopub.execute_input": "2022-04-07T19:32:19.805644Z",
     "iopub.status.busy": "2022-04-07T19:32:19.805038Z",
     "iopub.status.idle": "2022-04-07T19:32:19.810430Z",
     "shell.execute_reply": "2022-04-07T19:32:19.811075Z",
     "shell.execute_reply.started": "2022-02-13T13:52:31.490085Z"
    },
    "papermill": {
     "duration": 0.071566,
     "end_time": "2022-04-07T19:32:19.811257",
     "exception": false,
     "start_time": "2022-04-07T19:32:19.739691",
     "status": "completed"
    },
    "tags": []
   },
   "outputs": [
    {
     "name": "stdout",
     "output_type": "stream",
     "text": [
      "Proporção inadimplentes: 16.07%\n",
      "Nova proporção inadimplentes: 15.72%\n"
     ]
    }
   ],
   "source": [
    "print(f'Proporção inadimplentes: {round(100 * total_inadimplentes / total_linhas, 2)}%')\n",
    "print(f'Nova proporção inadimplentes: {round(100 * total_inadimplentes_novo / total_novo, 2)}%')"
   ]
  },
  {
   "cell_type": "markdown",
   "id": "18f55900",
   "metadata": {
    "papermill": {
     "duration": 0.065196,
     "end_time": "2022-04-07T19:32:19.939411",
     "exception": false,
     "start_time": "2022-04-07T19:32:19.874215",
     "status": "completed"
    },
    "tags": []
   },
   "source": [
    "# Visualização de Dados #\n",
    "Após tratados, vamos utilizar gráficos para a visualização desses dados. "
   ]
  },
  {
   "cell_type": "code",
   "execution_count": 31,
   "id": "e9d579da",
   "metadata": {
    "execution": {
     "iopub.execute_input": "2022-04-07T19:32:20.076895Z",
     "iopub.status.busy": "2022-04-07T19:32:20.076216Z",
     "iopub.status.idle": "2022-04-07T19:32:20.078340Z",
     "shell.execute_reply": "2022-04-07T19:32:20.078848Z",
     "shell.execute_reply.started": "2022-02-13T13:52:31.501725Z"
    },
    "papermill": {
     "duration": 0.076978,
     "end_time": "2022-04-07T19:32:20.079044",
     "exception": false,
     "start_time": "2022-04-07T19:32:20.002066",
     "status": "completed"
    },
    "tags": []
   },
   "outputs": [],
   "source": [
    "sns.set_style('whitegrid')"
   ]
  },
  {
   "cell_type": "code",
   "execution_count": 32,
   "id": "1b52fc0a",
   "metadata": {
    "execution": {
     "iopub.execute_input": "2022-04-07T19:32:20.211178Z",
     "iopub.status.busy": "2022-04-07T19:32:20.210487Z",
     "iopub.status.idle": "2022-04-07T19:32:20.214599Z",
     "shell.execute_reply": "2022-04-07T19:32:20.214056Z",
     "shell.execute_reply.started": "2022-02-13T13:52:31.513128Z"
    },
    "papermill": {
     "duration": 0.071876,
     "end_time": "2022-04-07T19:32:20.214737",
     "exception": false,
     "start_time": "2022-04-07T19:32:20.142861",
     "status": "completed"
    },
    "tags": []
   },
   "outputs": [],
   "source": [
    "df_adimplentes = df[df['default'] == 0]"
   ]
  },
  {
   "cell_type": "code",
   "execution_count": 33,
   "id": "e6102c3f",
   "metadata": {
    "execution": {
     "iopub.execute_input": "2022-04-07T19:32:20.347939Z",
     "iopub.status.busy": "2022-04-07T19:32:20.346813Z",
     "iopub.status.idle": "2022-04-07T19:32:20.350917Z",
     "shell.execute_reply": "2022-04-07T19:32:20.350443Z",
     "shell.execute_reply.started": "2022-02-13T13:52:31.525034Z"
    },
    "papermill": {
     "duration": 0.072352,
     "end_time": "2022-04-07T19:32:20.351091",
     "exception": false,
     "start_time": "2022-04-07T19:32:20.278739",
     "status": "completed"
    },
    "tags": []
   },
   "outputs": [],
   "source": [
    "df_inadimplentes = df[df['default'] == 1]"
   ]
  },
  {
   "cell_type": "markdown",
   "id": "7f5383b0",
   "metadata": {
    "papermill": {
     "duration": 0.06227,
     "end_time": "2022-04-07T19:32:20.476016",
     "exception": false,
     "start_time": "2022-04-07T19:32:20.413746",
     "status": "completed"
    },
    "tags": []
   },
   "source": [
    "## Visualização por categoria ##\n",
    "Os dados serão visualizados criando a relação entre os atributos categóricos e a variável default"
   ]
  },
  {
   "cell_type": "code",
   "execution_count": 34,
   "id": "2fb70630",
   "metadata": {
    "execution": {
     "iopub.execute_input": "2022-04-07T19:32:20.615577Z",
     "iopub.status.busy": "2022-04-07T19:32:20.614875Z",
     "iopub.status.idle": "2022-04-07T19:32:20.618431Z",
     "shell.execute_reply": "2022-04-07T19:32:20.618877Z",
     "shell.execute_reply.started": "2022-02-13T13:52:31.534979Z"
    },
    "papermill": {
     "duration": 0.080382,
     "end_time": "2022-04-07T19:32:20.619063",
     "exception": false,
     "start_time": "2022-04-07T19:32:20.538681",
     "status": "completed"
    },
    "tags": []
   },
   "outputs": [
    {
     "data": {
      "text/html": [
       "<div>\n",
       "<style scoped>\n",
       "    .dataframe tbody tr th:only-of-type {\n",
       "        vertical-align: middle;\n",
       "    }\n",
       "\n",
       "    .dataframe tbody tr th {\n",
       "        vertical-align: top;\n",
       "    }\n",
       "\n",
       "    .dataframe thead th {\n",
       "        text-align: right;\n",
       "    }\n",
       "</style>\n",
       "<table border=\"1\" class=\"dataframe\">\n",
       "  <thead>\n",
       "    <tr style=\"text-align: right;\">\n",
       "      <th></th>\n",
       "      <th>sexo</th>\n",
       "      <th>escolaridade</th>\n",
       "      <th>estado_civil</th>\n",
       "      <th>salario_anual</th>\n",
       "      <th>tipo_cartao</th>\n",
       "    </tr>\n",
       "  </thead>\n",
       "  <tbody>\n",
       "    <tr>\n",
       "      <th>0</th>\n",
       "      <td>M</td>\n",
       "      <td>ensino medio</td>\n",
       "      <td>casado</td>\n",
       "      <td>$60K - $80K</td>\n",
       "      <td>blue</td>\n",
       "    </tr>\n",
       "    <tr>\n",
       "      <th>1</th>\n",
       "      <td>F</td>\n",
       "      <td>mestrado</td>\n",
       "      <td>solteiro</td>\n",
       "      <td>menos que $40K</td>\n",
       "      <td>blue</td>\n",
       "    </tr>\n",
       "    <tr>\n",
       "      <th>2</th>\n",
       "      <td>M</td>\n",
       "      <td>mestrado</td>\n",
       "      <td>casado</td>\n",
       "      <td>$80K - $120K</td>\n",
       "      <td>blue</td>\n",
       "    </tr>\n",
       "    <tr>\n",
       "      <th>4</th>\n",
       "      <td>M</td>\n",
       "      <td>sem educacao formal</td>\n",
       "      <td>casado</td>\n",
       "      <td>$60K - $80K</td>\n",
       "      <td>blue</td>\n",
       "    </tr>\n",
       "    <tr>\n",
       "      <th>5</th>\n",
       "      <td>M</td>\n",
       "      <td>mestrado</td>\n",
       "      <td>casado</td>\n",
       "      <td>$40K - $60K</td>\n",
       "      <td>blue</td>\n",
       "    </tr>\n",
       "  </tbody>\n",
       "</table>\n",
       "</div>"
      ],
      "text/plain": [
       "  sexo         escolaridade estado_civil   salario_anual tipo_cartao\n",
       "0    M         ensino medio       casado     $60K - $80K        blue\n",
       "1    F             mestrado     solteiro  menos que $40K        blue\n",
       "2    M             mestrado       casado    $80K - $120K        blue\n",
       "4    M  sem educacao formal       casado     $60K - $80K        blue\n",
       "5    M             mestrado       casado     $40K - $60K        blue"
      ]
     },
     "execution_count": 34,
     "metadata": {},
     "output_type": "execute_result"
    }
   ],
   "source": [
    "df.select_dtypes('object').head(5)\n"
   ]
  },
  {
   "cell_type": "markdown",
   "id": "bb296472",
   "metadata": {
    "papermill": {
     "duration": 0.063313,
     "end_time": "2022-04-07T19:32:20.745804",
     "exception": false,
     "start_time": "2022-04-07T19:32:20.682491",
     "status": "completed"
    },
    "tags": []
   },
   "source": [
    "### 1. Escolaridade ###\n"
   ]
  },
  {
   "cell_type": "code",
   "execution_count": 35,
   "id": "312b1f35",
   "metadata": {
    "execution": {
     "iopub.execute_input": "2022-04-07T19:32:20.908042Z",
     "iopub.status.busy": "2022-04-07T19:32:20.903764Z",
     "iopub.status.idle": "2022-04-07T19:32:21.521112Z",
     "shell.execute_reply": "2022-04-07T19:32:21.520548Z",
     "shell.execute_reply.started": "2022-02-13T13:52:31.55393Z"
    },
    "papermill": {
     "duration": 0.711832,
     "end_time": "2022-04-07T19:32:21.521264",
     "exception": false,
     "start_time": "2022-04-07T19:32:20.809432",
     "status": "completed"
    },
    "tags": []
   },
   "outputs": [
    {
     "data": {
      "image/png": "[encoded data removed]",
      "text/plain": [
       "<Figure size 1440x360 with 3 Axes>"
      ]
     },
     "metadata": {},
     "output_type": "display_data"
    }
   ],
   "source": [
    "coluna = 'escolaridade'\n",
    "titulos = ['Escolaridade dos Clientes', 'Escolaridade dos Clientes Adimplentes', 'Escolaridade dos clientes Inadimplentes']\n",
    "\n",
    "eixo = 0\n",
    "max_y = 0 \n",
    "max = df.select_dtypes('object').describe()[coluna]['freq'] * 1.1\n",
    "figura, eixos = plt.subplots(1, 3, figsize = (20, 5), sharex = True)\n",
    "\n",
    "for dataframe in [df, df_adimplentes, df_inadimplentes]:\n",
    "\n",
    "    df_to_plot = dataframe[coluna].value_counts().to_frame()\n",
    "    df_to_plot.rename(columns = {coluna: 'frequencia_absoluta'}, inplace = True)\n",
    "    df_to_plot[coluna] = df_to_plot.index\n",
    "    df_to_plot.sort_values(by = [coluna], inplace = True)\n",
    "    df_to_plot.sort_values(by = [coluna])\n",
    "\n",
    "    f = sns.barplot(x = df_to_plot[coluna], y = df_to_plot['frequencia_absoluta'], ax=eixos[eixo])\n",
    "    f.set(title=titulos[eixo], xlabel = coluna.capitalize(), ylabel='Frequência Absoluta')\n",
    "    f.set_xticklabels(labels = f.get_xticklabels(), rotation=90)\n",
    "\n",
    "    _, max_y_f = f.get_ylim()\n",
    "    max_y = max_y_f if max_y_f > max_y else max_y\n",
    "    f.set(ylim=(0, max_y))\n",
    "\n",
    "    eixo += 1\n",
    "\n",
    "\n",
    "figura.show()"
   ]
  },
  {
   "cell_type": "markdown",
   "id": "281afa3b",
   "metadata": {
    "papermill": {
     "duration": 0.064827,
     "end_time": "2022-04-07T19:32:21.651549",
     "exception": false,
     "start_time": "2022-04-07T19:32:21.586722",
     "status": "completed"
    },
    "tags": []
   },
   "source": [
    "### 2. Salário Anual ###"
   ]
  },
  {
   "cell_type": "code",
   "execution_count": 36,
   "id": "36ab9b16",
   "metadata": {
    "execution": {
     "iopub.execute_input": "2022-04-07T19:32:21.790431Z",
     "iopub.status.busy": "2022-04-07T19:32:21.789702Z",
     "iopub.status.idle": "2022-04-07T19:32:22.595832Z",
     "shell.execute_reply": "2022-04-07T19:32:22.595251Z",
     "shell.execute_reply.started": "2022-02-13T13:52:32.165735Z"
    },
    "papermill": {
     "duration": 0.879371,
     "end_time": "2022-04-07T19:32:22.596006",
     "exception": false,
     "start_time": "2022-04-07T19:32:21.716635",
     "status": "completed"
    },
    "tags": []
   },
   "outputs": [
    {
     "data": {
      "image/png": "[encoded data removed]",
      "text/plain": [
       "<Figure size 1440x360 with 3 Axes>"
      ]
     },
     "metadata": {},
     "output_type": "display_data"
    }
   ],
   "source": [
    "coluna = 'salario_anual'\n",
    "titulos = ['Salário dos Clientes', 'Salário dos Clientes Adimplentes', 'Salário dos Clientes Inadimplentes']\n",
    "\n",
    "eixo = 0\n",
    "max_y = 0\n",
    "figura, eixos = plt.subplots(1,3, figsize=(20, 5), sharex=True)\n",
    "\n",
    "for dataframe in [df, df_adimplentes, df_inadimplentes]:\n",
    "\n",
    "  df_to_plot = dataframe[coluna].value_counts().to_frame()\n",
    "  df_to_plot.rename(columns = {coluna: 'frequencia_absoluta'}, inplace = True)\n",
    "  df_to_plot[coluna] = df_to_plot.index\n",
    "  df_to_plot.reset_index(inplace = True, drop = True)\n",
    "  df_to_plot.sort_values(by = [coluna], inplace = True)\n",
    "\n",
    "  f = sns.barplot(x = df_to_plot[coluna], y = df_to_plot['frequencia_absoluta'], ax=eixos[eixo])\n",
    "  f.set(title = titulos[eixo], xlabel = coluna.capitalize(), ylabel = 'Frequência Absoluta')\n",
    "  f.set_xticklabels(labels = f.get_xticklabels(), rotation=90)\n",
    "  _, max_y_f = f.get_ylim()\n",
    "  max_y = max_y_f if max_y_f > max_y else max_y\n",
    "  f.set(ylim = (0, max_y))\n",
    "  eixo += 1\n",
    "\n",
    "figura.show()"
   ]
  },
  {
   "cell_type": "markdown",
   "id": "eff37e23",
   "metadata": {
    "papermill": {
     "duration": 0.065703,
     "end_time": "2022-04-07T19:32:22.729062",
     "exception": false,
     "start_time": "2022-04-07T19:32:22.663359",
     "status": "completed"
    },
    "tags": []
   },
   "source": [
    "### 3. Tipo do Cartão ###"
   ]
  },
  {
   "cell_type": "code",
   "execution_count": 37,
   "id": "87d0d9fd",
   "metadata": {
    "execution": {
     "iopub.execute_input": "2022-04-07T19:32:22.900248Z",
     "iopub.status.busy": "2022-04-07T19:32:22.864253Z",
     "iopub.status.idle": "2022-04-07T19:32:23.544434Z",
     "shell.execute_reply": "2022-04-07T19:32:23.543738Z",
     "shell.execute_reply.started": "2022-02-13T13:52:32.772235Z"
    },
    "papermill": {
     "duration": 0.74966,
     "end_time": "2022-04-07T19:32:23.544581",
     "exception": false,
     "start_time": "2022-04-07T19:32:22.794921",
     "status": "completed"
    },
    "tags": []
   },
   "outputs": [
    {
     "data": {
      "image/png": "[encoded data removed]",
      "text/plain": [
       "<Figure size 1440x360 with 3 Axes>"
      ]
     },
     "metadata": {},
     "output_type": "display_data"
    }
   ],
   "source": [
    "coluna = 'tipo_cartao'\n",
    "titulos = ['Tipo do Cartão dos Clientes', 'Tipo do Cartão dos Clientes Adimplentes', 'Tipo do Cartão dos Clientes Inadimplentes']\n",
    "\n",
    "eixo = 0\n",
    "max_y = 0\n",
    "figura, eixos = plt.subplots(1,3, figsize=(20, 5), sharex=True)\n",
    "\n",
    "for dataframe in [df, df_adimplentes, df_inadimplentes]:\n",
    "\n",
    "  df_to_plot = dataframe[coluna].value_counts().to_frame()\n",
    "  df_to_plot.rename(columns = {coluna: 'frequencia_absoluta'}, inplace=True)\n",
    "  df_to_plot[coluna] = df_to_plot.index\n",
    "  df_to_plot.reset_index(inplace = True, drop = True)\n",
    "  df_to_plot.sort_values(by = [coluna], inplace = True)\n",
    "\n",
    "  f = sns.barplot(x = df_to_plot[coluna], y = df_to_plot['frequencia_absoluta'], ax=eixos[eixo])\n",
    "  f.set(title = titulos[eixo], xlabel = coluna.capitalize(), ylabel='Frequência Absoluta')\n",
    "  f.set_xticklabels(labels = f.get_xticklabels(), rotation = 90)\n",
    "  _, max_y_f = f.get_ylim()\n",
    "  max_y = max_y_f if max_y_f > max_y else max_y\n",
    "  f.set(ylim = (0, max_y))\n",
    "  eixo += 1\n",
    "\n",
    "figura.show()"
   ]
  },
  {
   "cell_type": "markdown",
   "id": "ce9e589a",
   "metadata": {
    "papermill": {
     "duration": 0.069723,
     "end_time": "2022-04-07T19:32:23.681892",
     "exception": false,
     "start_time": "2022-04-07T19:32:23.612169",
     "status": "completed"
    },
    "tags": []
   },
   "source": [
    "## Visualização Numérica ##\n",
    "A visualização será feita entre atributos numéricos e a varivel default."
   ]
  },
  {
   "cell_type": "code",
   "execution_count": 38,
   "id": "cda3e890",
   "metadata": {
    "execution": {
     "iopub.execute_input": "2022-04-07T19:32:23.833937Z",
     "iopub.status.busy": "2022-04-07T19:32:23.833195Z",
     "iopub.status.idle": "2022-04-07T19:32:23.836169Z",
     "shell.execute_reply": "2022-04-07T19:32:23.836796Z",
     "shell.execute_reply.started": "2022-02-13T13:52:33.31991Z"
    },
    "papermill": {
     "duration": 0.086929,
     "end_time": "2022-04-07T19:32:23.837004",
     "exception": false,
     "start_time": "2022-04-07T19:32:23.750075",
     "status": "completed"
    },
    "tags": []
   },
   "outputs": [
    {
     "data": {
      "text/html": [
       "<div>\n",
       "<style scoped>\n",
       "    .dataframe tbody tr th:only-of-type {\n",
       "        vertical-align: middle;\n",
       "    }\n",
       "\n",
       "    .dataframe tbody tr th {\n",
       "        vertical-align: top;\n",
       "    }\n",
       "\n",
       "    .dataframe thead th {\n",
       "        text-align: right;\n",
       "    }\n",
       "</style>\n",
       "<table border=\"1\" class=\"dataframe\">\n",
       "  <thead>\n",
       "    <tr style=\"text-align: right;\">\n",
       "      <th></th>\n",
       "      <th>idade</th>\n",
       "      <th>dependentes</th>\n",
       "      <th>meses_de_relacionamento</th>\n",
       "      <th>qtd_produtos</th>\n",
       "      <th>iteracoes_12m</th>\n",
       "      <th>meses_inativo_12m</th>\n",
       "      <th>limite_credito</th>\n",
       "      <th>valor_transacoes_12m</th>\n",
       "      <th>qtd_transacoes_12m</th>\n",
       "    </tr>\n",
       "  </thead>\n",
       "  <tbody>\n",
       "    <tr>\n",
       "      <th>0</th>\n",
       "      <td>45</td>\n",
       "      <td>3</td>\n",
       "      <td>39</td>\n",
       "      <td>5</td>\n",
       "      <td>3</td>\n",
       "      <td>1</td>\n",
       "      <td>12691.51</td>\n",
       "      <td>1144.90</td>\n",
       "      <td>42</td>\n",
       "    </tr>\n",
       "    <tr>\n",
       "      <th>1</th>\n",
       "      <td>49</td>\n",
       "      <td>5</td>\n",
       "      <td>44</td>\n",
       "      <td>6</td>\n",
       "      <td>2</td>\n",
       "      <td>1</td>\n",
       "      <td>8256.96</td>\n",
       "      <td>1291.45</td>\n",
       "      <td>33</td>\n",
       "    </tr>\n",
       "    <tr>\n",
       "      <th>2</th>\n",
       "      <td>51</td>\n",
       "      <td>3</td>\n",
       "      <td>36</td>\n",
       "      <td>4</td>\n",
       "      <td>0</td>\n",
       "      <td>1</td>\n",
       "      <td>3418.56</td>\n",
       "      <td>1887.72</td>\n",
       "      <td>20</td>\n",
       "    </tr>\n",
       "    <tr>\n",
       "      <th>4</th>\n",
       "      <td>40</td>\n",
       "      <td>3</td>\n",
       "      <td>21</td>\n",
       "      <td>5</td>\n",
       "      <td>0</td>\n",
       "      <td>1</td>\n",
       "      <td>4716.22</td>\n",
       "      <td>816.08</td>\n",
       "      <td>28</td>\n",
       "    </tr>\n",
       "    <tr>\n",
       "      <th>5</th>\n",
       "      <td>44</td>\n",
       "      <td>2</td>\n",
       "      <td>36</td>\n",
       "      <td>3</td>\n",
       "      <td>2</td>\n",
       "      <td>1</td>\n",
       "      <td>4010.69</td>\n",
       "      <td>1088.07</td>\n",
       "      <td>24</td>\n",
       "    </tr>\n",
       "  </tbody>\n",
       "</table>\n",
       "</div>"
      ],
      "text/plain": [
       "   idade  dependentes  meses_de_relacionamento  qtd_produtos  iteracoes_12m  \\\n",
       "0     45            3                       39             5              3   \n",
       "1     49            5                       44             6              2   \n",
       "2     51            3                       36             4              0   \n",
       "4     40            3                       21             5              0   \n",
       "5     44            2                       36             3              2   \n",
       "\n",
       "   meses_inativo_12m  limite_credito  valor_transacoes_12m  qtd_transacoes_12m  \n",
       "0                  1        12691.51               1144.90                  42  \n",
       "1                  1         8256.96               1291.45                  33  \n",
       "2                  1         3418.56               1887.72                  20  \n",
       "4                  1         4716.22                816.08                  28  \n",
       "5                  1         4010.69               1088.07                  24  "
      ]
     },
     "execution_count": 38,
     "metadata": {},
     "output_type": "execute_result"
    }
   ],
   "source": [
    "df.drop(['id', 'default'], axis = 1).select_dtypes('number').head(5)"
   ]
  },
  {
   "cell_type": "markdown",
   "id": "190f83a9",
   "metadata": {
    "papermill": {
     "duration": 0.068255,
     "end_time": "2022-04-07T19:32:23.976480",
     "exception": false,
     "start_time": "2022-04-07T19:32:23.908225",
     "status": "completed"
    },
    "tags": []
   },
   "source": [
    "### 1. Transações nos últimos 12 meses ###"
   ]
  },
  {
   "cell_type": "code",
   "execution_count": 39,
   "id": "04a5bac2",
   "metadata": {
    "execution": {
     "iopub.execute_input": "2022-04-07T19:32:24.143029Z",
     "iopub.status.busy": "2022-04-07T19:32:24.142270Z",
     "iopub.status.idle": "2022-04-07T19:32:25.097559Z",
     "shell.execute_reply": "2022-04-07T19:32:25.098173Z",
     "shell.execute_reply.started": "2022-02-13T13:52:33.338298Z"
    },
    "papermill": {
     "duration": 1.043728,
     "end_time": "2022-04-07T19:32:25.098367",
     "exception": false,
     "start_time": "2022-04-07T19:32:24.054639",
     "status": "completed"
    },
    "tags": []
   },
   "outputs": [
    {
     "data": {
      "image/png": "[encoded data removed]",
      "text/plain": [
       "<Figure size 1440x360 with 3 Axes>"
      ]
     },
     "metadata": {},
     "output_type": "display_data"
    }
   ],
   "source": [
    "coluna = 'qtd_transacoes_12m'\n",
    "titulos = ['Quantidade de Transações no Último Ano', 'Quantidade de Transações no Último Ano de Adimplentes', 'Quantidade de Transações no Último Ano de Inadimplentes']\n",
    "\n",
    "eixo = 0\n",
    "max_y = 0\n",
    "figura, eixos = plt.subplots(1,3, figsize = (20, 5), sharex = True)\n",
    "\n",
    "for dataframe in [df, df_adimplentes, df_inadimplentes]:\n",
    "\n",
    "  f = sns.histplot(x = coluna, data = dataframe, stat = 'count', ax = eixos[eixo])\n",
    "  f.set(title = titulos[eixo], xlabel = coluna.capitalize(), ylabel = 'Frequência Absoluta')\n",
    "\n",
    "  _, max_y_f = f.get_ylim()\n",
    "  max_y = max_y_f if max_y_f > max_y else max_y\n",
    "  f.set(ylim = (0, max_y))\n",
    "\n",
    "  eixo += 1\n",
    "\n",
    "figura.show()"
   ]
  },
  {
   "cell_type": "markdown",
   "id": "d6556a2b",
   "metadata": {
    "papermill": {
     "duration": 0.068743,
     "end_time": "2022-04-07T19:32:25.236903",
     "exception": false,
     "start_time": "2022-04-07T19:32:25.168160",
     "status": "completed"
    },
    "tags": []
   },
   "source": [
    "### 2. Valor das transações nos últimos 12 meses ###"
   ]
  },
  {
   "cell_type": "code",
   "execution_count": 40,
   "id": "c735c8f5",
   "metadata": {
    "execution": {
     "iopub.execute_input": "2022-04-07T19:32:25.401297Z",
     "iopub.status.busy": "2022-04-07T19:32:25.400154Z",
     "iopub.status.idle": "2022-04-07T19:32:26.510931Z",
     "shell.execute_reply": "2022-04-07T19:32:26.510091Z",
     "shell.execute_reply.started": "2022-02-13T13:52:34.51384Z"
    },
    "papermill": {
     "duration": 1.204933,
     "end_time": "2022-04-07T19:32:26.511178",
     "exception": false,
     "start_time": "2022-04-07T19:32:25.306245",
     "status": "completed"
    },
    "tags": []
   },
   "outputs": [
    {
     "data": {
      "image/png": "[encoded data removed]",
      "text/plain": [
       "<Figure size 1440x360 with 3 Axes>"
      ]
     },
     "metadata": {},
     "output_type": "display_data"
    }
   ],
   "source": [
    "coluna = 'valor_transacoes_12m'\n",
    "titulos = ['Valor das Transações no Último Ano', 'Valor das Transações no Último Ano de Adimplentes', 'Valor das Transações no Último Ano de Inadimplentes']\n",
    "\n",
    "eixo = 0\n",
    "max_y = 0\n",
    "figura, eixos = plt.subplots(1,3, figsize=(20, 5), sharex=True)\n",
    "\n",
    "for dataframe in [df, df_adimplentes, df_inadimplentes]:\n",
    "\n",
    "  f = sns.histplot(x = coluna, data = dataframe, stat='count', ax = eixos[eixo])\n",
    "  f.set(title = titulos[eixo], xlabel = coluna.capitalize(), ylabel = 'Frequência Absoluta')\n",
    "\n",
    "  _, max_y_f = f.get_ylim()\n",
    "  max_y = max_y_f if max_y_f > max_y else max_y\n",
    "  f.set(ylim=(0, max_y))\n",
    "\n",
    "  eixo += 1\n",
    "\n",
    "figura.show()\n"
   ]
  },
  {
   "cell_type": "markdown",
   "id": "834bcdd6",
   "metadata": {
    "papermill": {
     "duration": 0.069938,
     "end_time": "2022-04-07T19:32:26.652713",
     "exception": false,
     "start_time": "2022-04-07T19:32:26.582775",
     "status": "completed"
    },
    "tags": []
   },
   "source": [
    "### 3. Valor das transações nos últimos 12 meses X Transaçõe nos últimos 12 meses ###"
   ]
  },
  {
   "cell_type": "code",
   "execution_count": 41,
   "id": "417f7f58",
   "metadata": {
    "execution": {
     "iopub.execute_input": "2022-04-07T19:32:26.798389Z",
     "iopub.status.busy": "2022-04-07T19:32:26.797724Z",
     "iopub.status.idle": "2022-04-07T19:32:28.040947Z",
     "shell.execute_reply": "2022-04-07T19:32:28.041531Z",
     "shell.execute_reply.started": "2022-02-13T13:52:35.655689Z"
    },
    "papermill": {
     "duration": 1.319019,
     "end_time": "2022-04-07T19:32:28.041707",
     "exception": false,
     "start_time": "2022-04-07T19:32:26.722688",
     "status": "completed"
    },
    "tags": []
   },
   "outputs": [
    {
     "data": {
      "image/png": "[encoded data removed]",
      "text/plain": [
       "<Figure size 403.375x360 with 1 Axes>"
      ]
     },
     "metadata": {},
     "output_type": "display_data"
    }
   ],
   "source": [
    "f = sns.relplot(x = 'valor_transacoes_12m', y = 'qtd_transacoes_12m', data = df, hue = 'default')\n",
    "_ = f.set(\n",
    "    title ='Relação entre Valor e Quantidade de Transações no Último Ano', \n",
    "    xlabel ='Valor das Transações no Último Ano', \n",
    "    ylabel ='Quantidade das Transações no Último Ano'\n",
    "  )"
   ]
  },
  {
   "cell_type": "markdown",
   "id": "b1fce2c4",
   "metadata": {
    "papermill": {
     "duration": 0.072946,
     "end_time": "2022-04-07T19:32:28.188586",
     "exception": false,
     "start_time": "2022-04-07T19:32:28.115640",
     "status": "completed"
    },
    "tags": []
   },
   "source": [
    "# Insights #\n",
    "### Atributos Categóricos ###\n",
    "É possível concluir que não existe uma relação entre a inadimplencia dos clientes com seus atributos categóricos, escolaridade, salário anual e tipo de cartão, já que foi obtido o mesmo resultado para as três bases. \n",
    "\n",
    "### Atributos Numéricos ###\n",
    "Os atributos númericos possuem relações entre suas bases e a inadimplencia. É possível notar que os clientes inadimplentes ocupam, majoritariamente, uma faixa de 40 transações, isso pode ser visto no terceiro gráfico (Quantidade de Transações no Último Ano de Inadimplentes) do primeiro tópico (Transações nos últimos 12 meses).\n",
    "Já no segundo tópico (Valor das transações nos últimos 12 meses) é possível notar que os clientes inadimplentes ocupam, em sua maioria, a faixa de 2500 no valor das transações, podemos observar isso no terceiro gráfico (Valor das Transações no Último Ano de Inadimplentes).\n",
    "Por fim, ao juntar as duas colunas (Valor das transações nos últimos 12 meses e Transaçõe nos últimos 12 meses), é possível ver onde há uma concentração maior na porcentagem dos inadimplentes, cor laranja. E ao observar, nota-se que são nos momentos  já destacados nos outros gráficos.\n",
    "\n",
    "### Conclusão ###\n",
    "É possível concluir, portanto, que os clientes que apresentam menos chances de se tornarem inadimplentes são aqueles com maior poder e atividade financeira."
   ]
  }
 ],
 "metadata": {
  "kernelspec": {
   "display_name": "Python 3",
   "language": "python",
   "name": "python3"
  },
  "language_info": {
   "codemirror_mode": {
    "name": "ipython",
    "version": 3
   },
   "file_extension": ".py",
   "mimetype": "text/x-python",
   "name": "python",
   "nbconvert_exporter": "python",
   "pygments_lexer": "ipython3",
   "version": "3.7.12"
  },
  "papermill": {
   "default_parameters": {},
   "duration": 25.995824,
   "end_time": "2022-04-07T19:32:28.972985",
   "environment_variables": {},
   "exception": null,
   "input_path": "__notebook__.ipynb",
   "output_path": "__notebook__.ipynb",
   "parameters": {},
   "start_time": "2022-04-07T19:32:02.977161",
   "version": "2.3.3"
  }
 },
 "nbformat": 4,
 "nbformat_minor": 5
}
